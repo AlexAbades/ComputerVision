{
 "cells": [
  {
   "cell_type": "markdown",
   "id": "749903e9",
   "metadata": {},
   "source": [
    "# Direct Linear Transformation \n",
    "\n",
    "\n",
    "$q_i$ = ***P****$Q_i$"
   ]
  },
  {
   "cell_type": "markdown",
   "id": "5f7b328a",
   "metadata": {},
   "source": [
    "\\begin{gather}\n",
    " \\begin{bmatrix} \\ sx \\\\ \\ sy \\\\ s  \\end{bmatrix}\n",
    " =\n",
    " P\n",
    "  \\begin{bmatrix}\n",
    "   \\ X_{i} \\\\ Y_{i} \\\\ Z_{i}\n",
    "   \\end{bmatrix}\n",
    "\\end{gather}"
   ]
  },
  {
   "cell_type": "markdown",
   "id": "06028517",
   "metadata": {},
   "source": [
    "P = K*[R t]"
   ]
  },
  {
   "cell_type": "markdown",
   "id": "94a15b4a",
   "metadata": {},
   "source": [
    "\\begin{gather}\n",
    "K\n",
    "= \n",
    "   \\begin{bmatrix}\n",
    "   \\ f &  0 & δ_{x} \\\\ 0 & f & δ_{y} \\\\ 0 & 0 & 1\\\n",
    "   \\end{bmatrix}\n",
    "\\end{gather}"
   ]
  },
  {
   "cell_type": "code",
   "execution_count": 34,
   "id": "9f4b3e62",
   "metadata": {},
   "outputs": [],
   "source": [
    "import numpy as np \n",
    "import matplotlib.pyplot as plt \n",
    "import cv2\n",
    "import sfunc as sf\n",
    "from itertools import product\n",
    "from scipy.spatial.transform import Rotation"
   ]
  },
  {
   "cell_type": "code",
   "execution_count": 35,
   "id": "95d5d963",
   "metadata": {},
   "outputs": [],
   "source": [
    "theta = 1/np.sqrt(2)\n",
    "f = 1000 \n",
    "dx = 1920/2\n",
    "dy = 1080/2\n",
    "R = np.matrix([[theta, -theta, 0],[theta, theta, 0],[0, 0, 1]])\n",
    "t = np.array([[0],[0],[10]])\n",
    "K = np.matrix([[f, 0, dx],[0, f, dy], [0, 0, 1]])"
   ]
  },
  {
   "cell_type": "code",
   "execution_count": 36,
   "id": "d36e6863",
   "metadata": {},
   "outputs": [],
   "source": [
    "Rt = np.concatenate((R, t), axis=1)"
   ]
  },
  {
   "cell_type": "code",
   "execution_count": 37,
   "id": "280166e4",
   "metadata": {},
   "outputs": [
    {
     "name": "stdout",
     "output_type": "stream",
     "text": [
      "[[ 7.07106781e+02 -7.07106781e+02  9.60000000e+02  9.60000000e+03]\n",
      " [ 7.07106781e+02  7.07106781e+02  5.40000000e+02  5.40000000e+03]\n",
      " [ 0.00000000e+00  0.00000000e+00  1.00000000e+00  1.00000000e+01]]\n"
     ]
    }
   ],
   "source": [
    "P = K@Rt\n",
    "print(P)"
   ]
  },
  {
   "cell_type": "markdown",
   "id": "883fd80e",
   "metadata": {},
   "source": [
    "## Find all the projections of $Q_{xyz}$\n",
    "$q_{001}$\n",
    "<br>\n",
    "$q_{010}$<br>\n",
    "$q_{100}$<br>\n",
    "$q_{101}$"
   ]
  },
  {
   "cell_type": "code",
   "execution_count": 38,
   "id": "047290d4",
   "metadata": {},
   "outputs": [],
   "source": [
    "Q000 = np.array([[0], [0], [0], [1]])"
   ]
  },
  {
   "cell_type": "markdown",
   "id": "4dbe3b91",
   "metadata": {},
   "source": [
    "cartesian product: [0, 1], repeat = 3 -->\n",
    "\n",
    "[0, 1] * [0, 1] * [0, 1]\n",
    "\n",
    "[00, 01, 10, 11]*[0, 1]\n",
    "\n",
    "[000, 010, 100, 110, 001, 011, 101, 111]"
   ]
  },
  {
   "cell_type": "code",
   "execution_count": 39,
   "id": "16964930",
   "metadata": {
    "scrolled": true
   },
   "outputs": [
    {
     "data": {
      "text/plain": [
       "array([[0, 0, 0],\n",
       "       [0, 0, 1],\n",
       "       [0, 1, 0],\n",
       "       [0, 1, 1],\n",
       "       [1, 0, 0],\n",
       "       [1, 0, 1],\n",
       "       [1, 1, 0],\n",
       "       [1, 1, 1]])"
      ]
     },
     "execution_count": 39,
     "metadata": {},
     "output_type": "execute_result"
    }
   ],
   "source": [
    "Qnh = np.array([list(i) for i in product([0, 1], repeat=3)])\n",
    "Qnh"
   ]
  },
  {
   "cell_type": "code",
   "execution_count": 40,
   "id": "5f0f558e",
   "metadata": {},
   "outputs": [
    {
     "name": "stdout",
     "output_type": "stream",
     "text": [
      "[[ 960.          540.        ]\n",
      " [ 960.          540.        ]\n",
      " [ 889.28932188  610.71067812]\n",
      " [ 895.71756535  604.28243465]\n",
      " [1030.71067812  610.71067812]\n",
      " [1024.28243465  604.28243465]\n",
      " [ 960.          681.42135624]\n",
      " [ 960.          668.56486931]]\n"
     ]
    }
   ],
   "source": [
    "q3,q2,Pm = sf.projectpoints(K, R, t, Qnh)\n",
    "print(q2.T)"
   ]
  },
  {
   "cell_type": "code",
   "execution_count": 41,
   "id": "6503ecc9",
   "metadata": {},
   "outputs": [],
   "source": [
    "def crossOp(v):\n",
    "    \"\"\"\n",
    "    v: Vector. The dimensions doesn't matter. Must be a 3d vector\n",
    "    Cv : It's the cross operation between the vector and itself. It follows the skew-symmetric matrix form \n",
    "    \"\"\"\n",
    "#     # Check the vector has appropiate form, we want a (3,) \n",
    "#     if v.shape == (3,1):\n",
    "#         v = np.squeeze(v, axis=1)\n",
    "#     elif v.shape == (1,3):\n",
    "#         v = np.squeeze(v, axis=0)\n",
    "#     else:\n",
    "#         pass\n",
    "    Cv = np.matrix(np.array([[0, -v[2], v[1]],[v[2], 0, -v[0]], [-v[1], v[0], 0]]))\n",
    "    return Cv"
   ]
  },
  {
   "cell_type": "code",
   "execution_count": 42,
   "id": "4f4ddb39",
   "metadata": {},
   "outputs": [],
   "source": [
    "def squeezdim(v):\n",
    "    \"\"\"\n",
    "    Function that squeezes a vetor into a the form (n,)\n",
    "    v: vector of dimension n.     \n",
    "    \"\"\"\n",
    "    try:\n",
    "        m,n = v.shape\n",
    "    except ValueError:\n",
    "        return v\n",
    "    if m>n: \n",
    "        v = np.squeeze(v, axis=1)\n",
    "    else:\n",
    "        v = np.squeeze(v, axis=0)\n",
    "    return v"
   ]
  },
  {
   "cell_type": "code",
   "execution_count": 43,
   "id": "4480e67b",
   "metadata": {},
   "outputs": [],
   "source": [
    "def matrix_B(q, Q):\n",
    "    \"\"\"\n",
    "    Creates a B matrix applying Kroneker product. \n",
    "        -1st. Corssproduct on vector q in itslef (qxq):  Uses the approach of a skew symetric matrix.\n",
    "        -2nd. Krokener product: B = Qi⊗[qi]x\n",
    "        \n",
    "    We have to option for estimate B: \n",
    "        - Estimate the Homography matrix:\n",
    "            We want to relate a set of points on 2D with a set of points in 2D. \n",
    "            q = [x, y]\n",
    "            Q = [x, y]\n",
    "        - Estimate the Projection Matrix:\n",
    "            We want to calculate the projection matrix given a set of points in 3D and it's projections into a 2D plane \n",
    "            q = [x, y]\n",
    "            Q = [X, Y, Z]\n",
    "    \n",
    "    In both cases the points MUST be in Inhomogenous form. \n",
    "    \"\"\"\n",
    "    \n",
    "    # Squeez dimesions of q to apply Cross Operation \n",
    "    q = squeezdim(q)\n",
    "    # Transform into homgenous\n",
    "    q = np.append(q, 1)\n",
    "    # Create the Skeweness matrix [p1]x\n",
    "    q = crossOp(q)\n",
    "    \n",
    "    # Squeeze vector Q\n",
    "    Q = squeezdim(Q)\n",
    "    # Transform into homgenous\n",
    "    Q = np.append(Q, 1)\n",
    "    \n",
    "    # Appply Kroneker Product\n",
    "    for i in range(len(Q)):\n",
    "        # Cjeck if the first element it's 0 to create matrix\n",
    "        if not i:\n",
    "            B = Q[i] * q\n",
    "        else:  # If it's not the first element just concatenate the matrices\n",
    "            B = np.concatenate((B, Q[i]*q),1)\n",
    "    return B"
   ]
  },
  {
   "cell_type": "code",
   "execution_count": 44,
   "id": "029507e2",
   "metadata": {},
   "outputs": [],
   "source": [
    "def projection_matrix(Q, P):\n",
    "    \"\"\"\n",
    "    Given a set of 3D points and it's projections into a 2D plane. We estimate the projection Matrix P.\n",
    "    It's estimated calculating the B Matrix and solving with singular value decomposition. Where the eigenvector \n",
    "    associated with the minimum singular value it's the estimation of the Projection Matrix.\n",
    "    \n",
    "    Q: A matrix of q points in homogenous form. where q are the projections into a plane of 3D points. [sx, sy, s]\n",
    "    Q -> (3,n)\n",
    "    P: A matrix of p points. Where P are 3D points of the form [X, Y, Z] or [X, Y, Z, 1]\n",
    "    P-> (3,n), (4,n)\n",
    "    PrM: An estimation of the projection matrix.\n",
    "    \n",
    "    \"\"\"\n",
    "    # Transform into arrays\n",
    "    Q = np.array(Q)\n",
    "    P = np.array(P)\n",
    "    # Check if Q it's only one point or a matrix. \n",
    "    try:\n",
    "        mq,nq = Q.shape # We want (3,n). \n",
    "        if mq != 3:  # The dimensions are switched. Could be (1,3), (8,3)\n",
    "            Q = Q.T\n",
    "            mq,_ = Q.shape \n",
    "            if mq != 3:\n",
    "                print('The vector q Must be in Homogenous form: [sx, sy, s], and it is: ')\n",
    "                print(Q)\n",
    "                return False\n",
    "        elif mq == nq:  # (3,3) We can't know which is the direction \n",
    "            print('Make sure that the rows of the matrix are the axis, i.e., (3,n). Being n the number of points')\n",
    "            print(Q)\n",
    "        else:\n",
    "            pass\n",
    "    except ValueError:\n",
    "        # Check if the point it's on the form of [sx, sy, s]\n",
    "        mq, = Q.shape\n",
    "        if mq != 3:\n",
    "            # The array doesn't have 3 dimensions. \n",
    "            raise ValueError('The vector q Must be in Homogenous form: [sx, sy, s], and it is: ', Q)\n",
    "        else:\n",
    "            # # The array has dimensions (3,). correct, add one dim so (3,1)\n",
    "            Q = np.expand_dims(Q, axis = 1)\n",
    "            \n",
    "        \n",
    "    # Check if P it's only one point or a matrix. \n",
    "    try:\n",
    "        m_p,n_p = P.shape # We want (3,n) or (4,n)\n",
    "        if m_p != 3 and m_p != 4:  # The dimensions are switched. Could be (1,3), (8,3), (1,4), (8,4)\n",
    "            P = P.T\n",
    "            m_p,_ = P.shape \n",
    "            if m_p != 3 and m_p != 4: \n",
    "                # Check the matix has the appropiate dimensions \n",
    "                print('The vector p Must be in Homogenous or Inhomogoenous fom: [X,Y,Z] or [X,Y,Z,1], and it is: ')\n",
    "                print(P)\n",
    "                return False\n",
    "        elif m_p == n_p:  # (3,3) or (4,4) We can't know which is the direction \n",
    "            print('Make sure that the rows of the matrix are the axis, i.e., (3,n) or (4,n). Being n the number of points')\n",
    "            print(P)\n",
    "        else:\n",
    "        # The matix has the appropiate dimensions\n",
    "            pass\n",
    "    except ValueError:\n",
    "        # Check if the point it's on the form of [sx, sy, s]\n",
    "        m_p, = P.shape\n",
    "        if m_p != 3 and m_p != 4:\n",
    "            # The array doesn't have 3 dimensions. \n",
    "            raise ValueError('The vector q Must be in Homogenous form: [sx, sy, s], and it is: ', P)\n",
    "        else:\n",
    "            # The array has dimensions (3,) or (4,1). correct, add one di so (3,1) or (4,1)\n",
    "            P = np.expand_dims(P, axis = 1)\n",
    "\n",
    "    \n",
    "    # Check that both matrices have the same number of points \n",
    "    if Q.shape[1] != P.shape[1]:\n",
    "        print('Not the same amount of points Q has: ', Q.shape, 'and P: ', P.shape)\n",
    "        return False \n",
    "    \n",
    "    # Create Matrix B\n",
    "    # p⊗[q]_x (3,1) or (4,1)\n",
    "    _,n = P.shape\n",
    "    for i in range(n):\n",
    "        # check if it's the first time we call the function \n",
    "        if not i:\n",
    "            B = matrix_B(Q[:,i],P[:,i])\n",
    "        else:\n",
    "            B = np.concatenate([B, matrix_B(Q[:,i], P[:,i])])\n",
    "    \n",
    "    # Apply singular value decomposition \n",
    "    scores, s, eigV = np.linalg.svd(B)\n",
    "    # Find the min eigenvalue, eigenvalue = s**2, min(s) = min (eigenValue)\n",
    "    idx = np.where(s==min(s))\n",
    "    \n",
    "    PrM = eigV[idx].reshape((3,4),order='F')\n",
    "    PrM = PrM/PrM[-1,-1]\n",
    "\n",
    "    return PrM"
   ]
  },
  {
   "cell_type": "code",
   "execution_count": 45,
   "id": "66b408f1",
   "metadata": {},
   "outputs": [
    {
     "name": "stdout",
     "output_type": "stream",
     "text": [
      "[[ 7.07106781e+01 -7.07106781e+01  9.60000000e+01  9.60000000e+02]\n",
      " [ 7.07106781e+01  7.07106781e+01  5.40000000e+01  5.40000000e+02]\n",
      " [-1.20677247e-13  2.91128608e-13  1.00000000e-01  1.00000000e+00]]\n"
     ]
    }
   ],
   "source": [
    "P = projection_matrix(q3, Qnh)\n",
    "print(P)"
   ]
  },
  {
   "cell_type": "markdown",
   "id": "cd815998",
   "metadata": {},
   "source": [
    "#### Reproject the point Qnh with the estimated Projection Matrix.\n",
    "Calulate the reprojection error. <br>\n",
    "E = $\\sqrt{\\sum||q_{est} − q||^2}$? Does normalizing your points change the results?"
   ]
  },
  {
   "cell_type": "code",
   "execution_count": 46,
   "id": "662a2a40",
   "metadata": {},
   "outputs": [],
   "source": [
    "def rmserror(qest, q):\n",
    "    \"\"\"\n",
    "    qest it's the esyimated points q. The ones we wish to compare to the originals. \n",
    "    qest: 2D points in homogenous or inhonogenous form [sx, sy, s]\n",
    "    q: set of points in homogenous or inhomogenous form [sx, sy, s] \n",
    "\n",
    "    \n",
    "    qest and q must be in the same from. Homogenous or inohomgenous form \n",
    "    \"\"\"\n",
    "    # Transform into arryas \n",
    "    qest = np.array(qest)\n",
    "    q = np.array(q)\n",
    "    if qest.shape != q.shape:\n",
    "        print(\"The dimensions of the matrices don't match, make sure that they are in homgogenous form or inhomogenous\")\n",
    "        print('qest shape: ', qest.shape)\n",
    "        print('q shape: ', q.shape)\n",
    "        return False\n",
    "    \n",
    "    e = np.sqrt(sum(np.sum((qest-q)**2,1)))\n",
    "    return e"
   ]
  },
  {
   "cell_type": "code",
   "execution_count": 47,
   "id": "71834655",
   "metadata": {},
   "outputs": [
    {
     "data": {
      "text/plain": [
       "array([[9.60000000e+02, 5.40000000e+02, 1.00000000e+00],\n",
       "       [1.05600000e+03, 5.94000000e+02, 1.10000000e+00],\n",
       "       [8.89289322e+02, 6.10710678e+02, 1.00000000e+00],\n",
       "       [9.85289322e+02, 6.64710678e+02, 1.10000000e+00],\n",
       "       [1.03071068e+03, 6.10710678e+02, 1.00000000e+00],\n",
       "       [1.12671068e+03, 6.64710678e+02, 1.10000000e+00],\n",
       "       [9.60000000e+02, 6.81421356e+02, 1.00000000e+00],\n",
       "       [1.05600000e+03, 7.35421356e+02, 1.10000000e+00]])"
      ]
     },
     "execution_count": 47,
     "metadata": {},
     "output_type": "execute_result"
    }
   ],
   "source": [
    "# Transform Qnh into homogenous form (4,n)\n",
    "Qh = np.vstack([Qnh.T, np.ones(Qnh.T.shape[1])])\n",
    "# Reproject the Qh points \n",
    "qest = np.array(P@Qh)\n",
    "qest.T"
   ]
  },
  {
   "cell_type": "markdown",
   "id": "71ed2ee5",
   "metadata": {},
   "source": [
    "#### The estimated q is in homogenus form [sx, sy, s], we want them in Inhomogenous form [x, y]. We have to divide it by it's scale"
   ]
  },
  {
   "cell_type": "code",
   "execution_count": 48,
   "id": "5d7e7bcc",
   "metadata": {},
   "outputs": [
    {
     "name": "stdout",
     "output_type": "stream",
     "text": [
      "The error is of the non normalized projections:  6e-10\n"
     ]
    }
   ],
   "source": [
    "# Scale\n",
    "s = qest[-1,:]\n",
    "# Divide \n",
    "q2est = (qest/s)[:-1,:]  # (2,n)\n",
    "# Estimate the error with euclidean distance \n",
    "e = rmserror(q2est, q2)\n",
    "print('The error is of the non normalized projections: ', round(e,10))"
   ]
  },
  {
   "cell_type": "markdown",
   "id": "f14a8445",
   "metadata": {},
   "source": [
    "### Normalize the points to see if there is any differnece in the accuracy"
   ]
  },
  {
   "cell_type": "code",
   "execution_count": 49,
   "id": "4c6113d5",
   "metadata": {},
   "outputs": [],
   "source": [
    "def normalize(P, scale:int=None, points:int=None):\n",
    "    \"\"\"\n",
    "    Given a set of points, Estimates the T matrix which standarizes these points. The given points have to be InHomogenous \n",
    "    form and in the form of (dims, points). \n",
    "    Being dims the dimensions of the point its given. 2D points = 2, 3D points = 3.\n",
    "    It follows the following equation:\n",
    "    \n",
    "    z = (x-mu_x)/std_x\n",
    "    \n",
    "    Can work with all dimensions.\n",
    "    \"\"\"\n",
    "    m,n = P.shape\n",
    "    if m != 3 and m != 2:\n",
    "        print('Check the dimensions of your set of points. It should be in inhomogenous form, 2D or 3D points. \\nThis is'\n",
    "              '[sx, sy, z] or [X, Y, Z], which means shapes (2,n) or (3,n). \\nThe shape of the given set of points is: \\n',\n",
    "             P.shape)\n",
    "        return False \n",
    "    # calculate the means and unpack them in lists\n",
    "    *mus, = np.mean(P, axis=1)\n",
    "    *std, = np.std(P, axis=1)\n",
    "    # Transform lists into arryas so we can operate with them \n",
    "    mus = np.array(mus)\n",
    "    std = np.array(std)\n",
    "    # Create the T matrix\n",
    "    T = np.column_stack([np.diag(1/std),-mus/std])\n",
    "    # If we want to perserve the scale:\n",
    "    if scale:\n",
    "        f = np.zeros((T.shape[1]))\n",
    "        f[-1] = 1\n",
    "        T = np.vstack((T,f))\n",
    "    if points:\n",
    "        # (3,n)\n",
    "        points = T@np.vstack((P,np.ones((P.shape[1]))))\n",
    "        return points, T\n",
    "    return T"
   ]
  },
  {
   "cell_type": "markdown",
   "id": "9d99cc81",
   "metadata": {},
   "source": [
    "1st. Normalize **Q**, and calculate the projection **q** normalized with the given projection matrix P. <br>\n",
    "2nd. Once we have both sets of points normalized, estimate again the projection matrix **P**, this time it's normalized. <br>\n",
    "3th. Calculate the Error."
   ]
  },
  {
   "cell_type": "code",
   "execution_count": 50,
   "id": "6ac8e9a7",
   "metadata": {},
   "outputs": [
    {
     "name": "stdout",
     "output_type": "stream",
     "text": [
      "Error of the normalized projection 9.361652341497794e-10\n"
     ]
    }
   ],
   "source": [
    "# Normalize 3D points\n",
    "Qnh_norm, T = normalize(Qnh.T, points=True)\n",
    "# Calculate the projections into the 2D Plane\n",
    "q3norm, q2norm, _  = sf.projectpoints(K,R,t,Qnh_norm)\n",
    "# Estimate the projection Matrix P \n",
    "Pnorm = projection_matrix(q3norm, Qnh_norm)\n",
    "# Estimate the q points with the estimated Projection Matrix P. Q has to be in homogenous form \n",
    "qnormest = P@np.vstack([Qnh_norm, np.ones(8)])\n",
    "# Obtain the inhomogenous form \n",
    "s = qnormest[-1,:]\n",
    "q2normest = (qnormest/s)[:-1,:]\n",
    "# Calculate the euclidean error \n",
    "Enorm = rmserror(q2normest, q2norm)\n",
    "print('Error of the normalized projection', Enorm)"
   ]
  },
  {
   "cell_type": "markdown",
   "id": "1625fbea",
   "metadata": {},
   "source": [
    "## Checkboard Calibration"
   ]
  },
  {
   "cell_type": "markdown",
   "id": "dcf3b61e",
   "metadata": {},
   "source": [
    "$$ Q_{ij} = \\begin{bmatrix} i-\\frac{n-1}{2} \\\\ j-\\frac{m-1}{2} \\\\ 0 \\end{bmatrix},$$\n",
    "\n",
    "where $i = 0,...,n−1$ and $j = 0,...,m−1$. The points should be returned as a 3xn·m matrix and their order does not matter. These points lie in the z = 0 plane by definition.\n"
   ]
  },
  {
   "cell_type": "code",
   "execution_count": 51,
   "id": "be391786",
   "metadata": {},
   "outputs": [],
   "source": [
    "def checkerboard_points(n,m):\n",
    "    \"\"\" \n",
    "    Given two numbers, n and m. Creates a matrix Q_ij = [i-(n-1)/2, j-(n-1)/2, 0]. \n",
    "    Where i=1...n-1 and j=1...m-1.\n",
    "    Creates all the possible combinations on the range of n and m\n",
    "    n = 2, m= 2 --> Q = [Q_00, Q_01, Q_10, Q_11]\n",
    "    \n",
    "    Returns a matrix of dimensions (3,n*m)\n",
    "    \"\"\"\n",
    "    # Create a function that calculates the value inside one matrix i-(i-1)/2\n",
    "    val = lambda x,n: x-(n-1)/2\n",
    "    # specify ranges \n",
    "    \n",
    "    # Create the matrix\n",
    "    \n",
    "    M = np.array([np.array([val(i[0],n), val(i[1],m), 0]) for i in product(range(0, n),range(0,m))]).T\n",
    "    \n",
    "    return M"
   ]
  },
  {
   "cell_type": "code",
   "execution_count": 52,
   "id": "211bad3f",
   "metadata": {},
   "outputs": [
    {
     "data": {
      "text/plain": [
       "array([[-4.5, -9.5,  0. ],\n",
       "       [-4.5, -8.5,  0. ],\n",
       "       [-4.5, -7.5,  0. ],\n",
       "       [-4.5, -6.5,  0. ],\n",
       "       [-4.5, -5.5,  0. ],\n",
       "       [-4.5, -4.5,  0. ],\n",
       "       [-4.5, -3.5,  0. ],\n",
       "       [-4.5, -2.5,  0. ],\n",
       "       [-4.5, -1.5,  0. ],\n",
       "       [-4.5, -0.5,  0. ],\n",
       "       [-4.5,  0.5,  0. ],\n",
       "       [-4.5,  1.5,  0. ],\n",
       "       [-4.5,  2.5,  0. ],\n",
       "       [-4.5,  3.5,  0. ],\n",
       "       [-4.5,  4.5,  0. ],\n",
       "       [-4.5,  5.5,  0. ],\n",
       "       [-4.5,  6.5,  0. ],\n",
       "       [-4.5,  7.5,  0. ],\n",
       "       [-4.5,  8.5,  0. ],\n",
       "       [-4.5,  9.5,  0. ],\n",
       "       [-3.5, -9.5,  0. ],\n",
       "       [-3.5, -8.5,  0. ],\n",
       "       [-3.5, -7.5,  0. ],\n",
       "       [-3.5, -6.5,  0. ],\n",
       "       [-3.5, -5.5,  0. ],\n",
       "       [-3.5, -4.5,  0. ],\n",
       "       [-3.5, -3.5,  0. ],\n",
       "       [-3.5, -2.5,  0. ],\n",
       "       [-3.5, -1.5,  0. ],\n",
       "       [-3.5, -0.5,  0. ],\n",
       "       [-3.5,  0.5,  0. ],\n",
       "       [-3.5,  1.5,  0. ],\n",
       "       [-3.5,  2.5,  0. ],\n",
       "       [-3.5,  3.5,  0. ],\n",
       "       [-3.5,  4.5,  0. ],\n",
       "       [-3.5,  5.5,  0. ],\n",
       "       [-3.5,  6.5,  0. ],\n",
       "       [-3.5,  7.5,  0. ],\n",
       "       [-3.5,  8.5,  0. ],\n",
       "       [-3.5,  9.5,  0. ],\n",
       "       [-2.5, -9.5,  0. ],\n",
       "       [-2.5, -8.5,  0. ],\n",
       "       [-2.5, -7.5,  0. ],\n",
       "       [-2.5, -6.5,  0. ],\n",
       "       [-2.5, -5.5,  0. ],\n",
       "       [-2.5, -4.5,  0. ],\n",
       "       [-2.5, -3.5,  0. ],\n",
       "       [-2.5, -2.5,  0. ],\n",
       "       [-2.5, -1.5,  0. ],\n",
       "       [-2.5, -0.5,  0. ],\n",
       "       [-2.5,  0.5,  0. ],\n",
       "       [-2.5,  1.5,  0. ],\n",
       "       [-2.5,  2.5,  0. ],\n",
       "       [-2.5,  3.5,  0. ],\n",
       "       [-2.5,  4.5,  0. ],\n",
       "       [-2.5,  5.5,  0. ],\n",
       "       [-2.5,  6.5,  0. ],\n",
       "       [-2.5,  7.5,  0. ],\n",
       "       [-2.5,  8.5,  0. ],\n",
       "       [-2.5,  9.5,  0. ],\n",
       "       [-1.5, -9.5,  0. ],\n",
       "       [-1.5, -8.5,  0. ],\n",
       "       [-1.5, -7.5,  0. ],\n",
       "       [-1.5, -6.5,  0. ],\n",
       "       [-1.5, -5.5,  0. ],\n",
       "       [-1.5, -4.5,  0. ],\n",
       "       [-1.5, -3.5,  0. ],\n",
       "       [-1.5, -2.5,  0. ],\n",
       "       [-1.5, -1.5,  0. ],\n",
       "       [-1.5, -0.5,  0. ],\n",
       "       [-1.5,  0.5,  0. ],\n",
       "       [-1.5,  1.5,  0. ],\n",
       "       [-1.5,  2.5,  0. ],\n",
       "       [-1.5,  3.5,  0. ],\n",
       "       [-1.5,  4.5,  0. ],\n",
       "       [-1.5,  5.5,  0. ],\n",
       "       [-1.5,  6.5,  0. ],\n",
       "       [-1.5,  7.5,  0. ],\n",
       "       [-1.5,  8.5,  0. ],\n",
       "       [-1.5,  9.5,  0. ],\n",
       "       [-0.5, -9.5,  0. ],\n",
       "       [-0.5, -8.5,  0. ],\n",
       "       [-0.5, -7.5,  0. ],\n",
       "       [-0.5, -6.5,  0. ],\n",
       "       [-0.5, -5.5,  0. ],\n",
       "       [-0.5, -4.5,  0. ],\n",
       "       [-0.5, -3.5,  0. ],\n",
       "       [-0.5, -2.5,  0. ],\n",
       "       [-0.5, -1.5,  0. ],\n",
       "       [-0.5, -0.5,  0. ],\n",
       "       [-0.5,  0.5,  0. ],\n",
       "       [-0.5,  1.5,  0. ],\n",
       "       [-0.5,  2.5,  0. ],\n",
       "       [-0.5,  3.5,  0. ],\n",
       "       [-0.5,  4.5,  0. ],\n",
       "       [-0.5,  5.5,  0. ],\n",
       "       [-0.5,  6.5,  0. ],\n",
       "       [-0.5,  7.5,  0. ],\n",
       "       [-0.5,  8.5,  0. ],\n",
       "       [-0.5,  9.5,  0. ],\n",
       "       [ 0.5, -9.5,  0. ],\n",
       "       [ 0.5, -8.5,  0. ],\n",
       "       [ 0.5, -7.5,  0. ],\n",
       "       [ 0.5, -6.5,  0. ],\n",
       "       [ 0.5, -5.5,  0. ],\n",
       "       [ 0.5, -4.5,  0. ],\n",
       "       [ 0.5, -3.5,  0. ],\n",
       "       [ 0.5, -2.5,  0. ],\n",
       "       [ 0.5, -1.5,  0. ],\n",
       "       [ 0.5, -0.5,  0. ],\n",
       "       [ 0.5,  0.5,  0. ],\n",
       "       [ 0.5,  1.5,  0. ],\n",
       "       [ 0.5,  2.5,  0. ],\n",
       "       [ 0.5,  3.5,  0. ],\n",
       "       [ 0.5,  4.5,  0. ],\n",
       "       [ 0.5,  5.5,  0. ],\n",
       "       [ 0.5,  6.5,  0. ],\n",
       "       [ 0.5,  7.5,  0. ],\n",
       "       [ 0.5,  8.5,  0. ],\n",
       "       [ 0.5,  9.5,  0. ],\n",
       "       [ 1.5, -9.5,  0. ],\n",
       "       [ 1.5, -8.5,  0. ],\n",
       "       [ 1.5, -7.5,  0. ],\n",
       "       [ 1.5, -6.5,  0. ],\n",
       "       [ 1.5, -5.5,  0. ],\n",
       "       [ 1.5, -4.5,  0. ],\n",
       "       [ 1.5, -3.5,  0. ],\n",
       "       [ 1.5, -2.5,  0. ],\n",
       "       [ 1.5, -1.5,  0. ],\n",
       "       [ 1.5, -0.5,  0. ],\n",
       "       [ 1.5,  0.5,  0. ],\n",
       "       [ 1.5,  1.5,  0. ],\n",
       "       [ 1.5,  2.5,  0. ],\n",
       "       [ 1.5,  3.5,  0. ],\n",
       "       [ 1.5,  4.5,  0. ],\n",
       "       [ 1.5,  5.5,  0. ],\n",
       "       [ 1.5,  6.5,  0. ],\n",
       "       [ 1.5,  7.5,  0. ],\n",
       "       [ 1.5,  8.5,  0. ],\n",
       "       [ 1.5,  9.5,  0. ],\n",
       "       [ 2.5, -9.5,  0. ],\n",
       "       [ 2.5, -8.5,  0. ],\n",
       "       [ 2.5, -7.5,  0. ],\n",
       "       [ 2.5, -6.5,  0. ],\n",
       "       [ 2.5, -5.5,  0. ],\n",
       "       [ 2.5, -4.5,  0. ],\n",
       "       [ 2.5, -3.5,  0. ],\n",
       "       [ 2.5, -2.5,  0. ],\n",
       "       [ 2.5, -1.5,  0. ],\n",
       "       [ 2.5, -0.5,  0. ],\n",
       "       [ 2.5,  0.5,  0. ],\n",
       "       [ 2.5,  1.5,  0. ],\n",
       "       [ 2.5,  2.5,  0. ],\n",
       "       [ 2.5,  3.5,  0. ],\n",
       "       [ 2.5,  4.5,  0. ],\n",
       "       [ 2.5,  5.5,  0. ],\n",
       "       [ 2.5,  6.5,  0. ],\n",
       "       [ 2.5,  7.5,  0. ],\n",
       "       [ 2.5,  8.5,  0. ],\n",
       "       [ 2.5,  9.5,  0. ],\n",
       "       [ 3.5, -9.5,  0. ],\n",
       "       [ 3.5, -8.5,  0. ],\n",
       "       [ 3.5, -7.5,  0. ],\n",
       "       [ 3.5, -6.5,  0. ],\n",
       "       [ 3.5, -5.5,  0. ],\n",
       "       [ 3.5, -4.5,  0. ],\n",
       "       [ 3.5, -3.5,  0. ],\n",
       "       [ 3.5, -2.5,  0. ],\n",
       "       [ 3.5, -1.5,  0. ],\n",
       "       [ 3.5, -0.5,  0. ],\n",
       "       [ 3.5,  0.5,  0. ],\n",
       "       [ 3.5,  1.5,  0. ],\n",
       "       [ 3.5,  2.5,  0. ],\n",
       "       [ 3.5,  3.5,  0. ],\n",
       "       [ 3.5,  4.5,  0. ],\n",
       "       [ 3.5,  5.5,  0. ],\n",
       "       [ 3.5,  6.5,  0. ],\n",
       "       [ 3.5,  7.5,  0. ],\n",
       "       [ 3.5,  8.5,  0. ],\n",
       "       [ 3.5,  9.5,  0. ],\n",
       "       [ 4.5, -9.5,  0. ],\n",
       "       [ 4.5, -8.5,  0. ],\n",
       "       [ 4.5, -7.5,  0. ],\n",
       "       [ 4.5, -6.5,  0. ],\n",
       "       [ 4.5, -5.5,  0. ],\n",
       "       [ 4.5, -4.5,  0. ],\n",
       "       [ 4.5, -3.5,  0. ],\n",
       "       [ 4.5, -2.5,  0. ],\n",
       "       [ 4.5, -1.5,  0. ],\n",
       "       [ 4.5, -0.5,  0. ],\n",
       "       [ 4.5,  0.5,  0. ],\n",
       "       [ 4.5,  1.5,  0. ],\n",
       "       [ 4.5,  2.5,  0. ],\n",
       "       [ 4.5,  3.5,  0. ],\n",
       "       [ 4.5,  4.5,  0. ],\n",
       "       [ 4.5,  5.5,  0. ],\n",
       "       [ 4.5,  6.5,  0. ],\n",
       "       [ 4.5,  7.5,  0. ],\n",
       "       [ 4.5,  8.5,  0. ],\n",
       "       [ 4.5,  9.5,  0. ]])"
      ]
     },
     "execution_count": 52,
     "metadata": {},
     "output_type": "execute_result"
    }
   ],
   "source": [
    "Qo = checkerboard_points(10, 20)\n",
    "Qo.T"
   ]
  },
  {
   "cell_type": "markdown",
   "id": "87ce5ab6",
   "metadata": {},
   "source": [
    "Let $Q_\\Omega$ define a set of corners on a checkerboard. Then define three sets of checkerboard points $Q_a$, $Q_b$, and $Q_c$, where\n",
    "\n",
    "$$Q_a= R(\\frac{\\pi}{10},0,0) Q_\\Omega ,$$\n",
    "$$Q_b= R(0,0,0) Q_\\Omega ,$$\n",
    "$$Q_c= R(-\\frac{\\pi}{10},0,0) Q_\\Omega $$\n",
    "where\n",
    "\n",
    "$$ R(\\theta_x,\\theta_y,\\theta_z) = \\begin{bmatrix} cos(\\theta_z) & -sin(\\theta_z) & 0 \\\\ sin(\\theta_z) & cos(\\theta_z) & 0 \\\\ 0 & 0 & 1 \\end{bmatrix} \\begin{bmatrix} cos(\\theta_y) & 0 & -sin(\\theta_y)\\\\ 0 & 1 & 0 \\\\ sin(\\theta_y) & 0 & cos(\\theta_y) \\end{bmatrix} \\begin{bmatrix} 1 & 0 & 0\\\\ 0 & cos(\\theta_x) & -sin(\\theta_x) \\\\ 0 & sin(\\theta_x) & cos(\\theta_x) \\end{bmatrix}$$\n"
   ]
  },
  {
   "cell_type": "code",
   "execution_count": 53,
   "id": "38e688a6",
   "metadata": {},
   "outputs": [],
   "source": [
    "thetax = np.pi/10\n",
    "Qa = Rotation.from_euler('xyz', [thetax, 0, 0]).as_matrix()@Qo\n",
    "Qb = Rotation.from_euler('xyz', [0, 0, 0]).as_matrix()@Qo\n",
    "Qc = Rotation.from_euler('xyz', [-thetax, 0, 0]).as_matrix()@Qo"
   ]
  },
  {
   "cell_type": "code",
   "execution_count": 54,
   "id": "512ae671",
   "metadata": {},
   "outputs": [
    {
     "data": {
      "image/png": "[encoded data removed]",
      "text/plain": [
       "<Figure size 1080x1080 with 1 Axes>"
      ]
     },
     "metadata": {
      "needs_background": "light"
     },
     "output_type": "display_data"
    }
   ],
   "source": [
    "sf.plot3d(Qa, Qb, Qc)"
   ]
  },
  {
   "cell_type": "code",
   "execution_count": 55,
   "id": "a5e059cd",
   "metadata": {},
   "outputs": [],
   "source": [
    "# Transform to homogenous form \n",
    "def hom(Q):\n",
    "    \"\"\"\n",
    "    Function that transforms into homogenous form. \n",
    "    Q has to be in the form of (2,n) or (3, n)\n",
    "    Returns the matrix Q but with an extra row of ones\n",
    "    \"\"\"\n",
    "    n = Q.shape[1]\n",
    "    Q = np.vstack([Q, np.ones(n)])\n",
    "    return Q\n",
    "\n",
    "def inhom(Q):\n",
    "    \"\"\"\n",
    "    Return Q in inhomogenous form \n",
    "    Given Q divides by the scale:\n",
    "    [sx, sy, s]/s = [x, y, 1] and we return [x, y]\n",
    "    In case of a 3D point as the scale is 1 we divide by one and return everything but the last column.\n",
    "    \"\"\"\n",
    "    s = Q[-1,:]\n",
    "    Q = (Q/s)[:-1,:]\n",
    "    return Q\n",
    "\n",
    "qa = P@hom(Qa)\n",
    "qb = P@hom(Qb)\n",
    "qc = P@hom(Qc)\n",
    "\n",
    "qs = [qa, qb, qc]\n",
    "\n",
    "qa = qa/qa[-1,:]\n",
    "qa.T\n",
    "qb = qb/qb[-1,:]\n",
    "\n",
    "qc = qc/qc[-1,:]\n",
    "\n"
   ]
  },
  {
   "cell_type": "markdown",
   "id": "409a3c7e",
   "metadata": {},
   "source": [
    "Define a function `estimateHomographies(Q_omega, qs)` which takes the following input arguments:\n",
    "\n",
    "  - $Q_\\Omega$: an array original un-transformed checkerboard points in 3D, for example $Q_\\Omega$.\n",
    "  - $q_s$: a list of arrays, each element in the list containing $Q_\\Omega$ projected to the image plane from\n",
    "    different views, for example $q_s$ could be $[q_a,q_b,q_c].$\n",
    " \n",
    " \n",
    " \n",
    "The function should return the homographies that map from $Q_\\Omega$ to each of the entries in $q_s$.\n",
    "\n",
    "The homographies should work as follows:\n",
    "$$q= H Q'_\\Omega$$\n",
    "\n",
    "where $Q'_\\Omega$ is $Q_\\Omega$ without the z-coordinate, in homogeneous coordinates. Remember that we need\n",
    "multiple orientations of checkerboards e.g. rotated and translated.\n",
    "\n",
    "Use your function `hest` from week 2 to estimate the individual homographies. Your should return a list of homographies; one homography for each checkerboard orientation.\n",
    "Test your function using $Q_\\Omega$, $q_a$, $q_b$, and $q_c$. "
   ]
  },
  {
   "cell_type": "code",
   "execution_count": 56,
   "id": "1e339f9a",
   "metadata": {},
   "outputs": [],
   "source": [
    "def estimateHomographies(Q_omega, *args):\n",
    "    \"\"\"\n",
    "    The function should return the homographies that map from  𝑄Ω  to each of the entries in  𝑞𝑠.\n",
    "    \n",
    "    𝑄Ω : An array original un-transformed checkerboard points in 3D, for example 𝑄Ω. (3,n). \n",
    "         Being n the number of points \n",
    "    \n",
    "    𝑞𝑠: A list of arrays, each element in the list containing 𝑄Ω projected to the image plane from different views,\n",
    "        For example 𝑞𝑠 could be [𝑞𝑎,𝑞𝑏,𝑞𝑐,...𝑞z]. (3,n) of length m. \n",
    "        Being \"n\" the number of points and \"m\" the number of different views.\n",
    "        \n",
    "    \"\"\"\n",
    "    # Check dimension of Q_omega\n",
    "    if Q_omega.shape[0] != 3:\n",
    "        print(\"Please insert the matrix Q_omega in the form of (3,n)\")\n",
    "        return\n",
    "    Q_omega = Q_omega[:-1,:]\n",
    "    \n",
    "#     n = len(args)\n",
    "#     H = np.zeros((3,3,n))\n",
    "    H = []\n",
    "    for q in args:\n",
    "        # check dimensions \n",
    "        if q.shape[0] == 3:\n",
    "            q = q[:-1,:]\n",
    "        elif q.shape[0] == 2:\n",
    "            pass\n",
    "        else:\n",
    "            print('Please make sure the qs are in the form of (dimensions, number_of_points)')\n",
    "            return \n",
    "        # Estimate H     \n",
    "        H.append(sf.hest(q, Q_omega))\n",
    "        \n",
    "        \n",
    "    return H"
   ]
  },
  {
   "cell_type": "code",
   "execution_count": 57,
   "id": "a6881b8a",
   "metadata": {},
   "outputs": [
    {
     "name": "stdout",
     "output_type": "stream",
     "text": [
      "[[ 7.07106781e+01 -3.75842197e+01  9.60000000e+02]\n",
      " [ 7.07106781e+01  8.39367689e+01  5.40000000e+02]\n",
      " [ 4.42946383e-14  3.09016994e-02  1.00000000e+00]]\n",
      "[[ 7.07106781e+01 -7.07106781e+01  9.60000000e+02]\n",
      " [ 7.07106781e+01  7.07106781e+01  5.40000000e+02]\n",
      " [-1.49427001e-13  3.29241736e-13  1.00000000e+00]]\n",
      "[[ 7.07106781e+01 -9.69154827e+01  9.60000000e+02]\n",
      " [ 7.07106781e+01  5.05629335e+01  5.40000000e+02]\n",
      " [-1.53054878e-13 -3.09016994e-02  1.00000000e+00]]\n"
     ]
    }
   ],
   "source": [
    "Hs = estimateHomographies(Qo, qa, qb, qc)\n",
    "Ha_est = Hs[0]\n",
    "Hb_est = Hs[1]\n",
    "Hc_est = Hs[2]\n",
    "print(Ha_est)\n",
    "print(Hb_est)\n",
    "print(Hc_est)"
   ]
  },
  {
   "cell_type": "markdown",
   "id": "c8ef6424",
   "metadata": {},
   "source": [
    "To check if the Estimated homographies are correct, we are going to estimate the projected points into the 2D plane\n",
    "$$q= H Q'_\\Omega$$\n",
    "\n",
    "where $Q'_\\Omega$ is $Q_\\Omega$ without the z-coordinate, in homogeneous coordinates. [X, Y, 1]"
   ]
  },
  {
   "cell_type": "code",
   "execution_count": 58,
   "id": "e077aa60",
   "metadata": {},
   "outputs": [],
   "source": [
    "# Drop the last dimension \n",
    "Qo_ti = Qo[:-1,:]\n",
    "# Add ones\n",
    "Qo_ti = hom(Qo_ti)\n",
    "# Estimate \n",
    "qa_est = Ha_est@Qo_ti\n",
    "qb_est = Hb_est@Qo_ti\n",
    "qc_est = Hc_est@Qo_ti"
   ]
  },
  {
   "cell_type": "code",
   "execution_count": 59,
   "id": "bc7a51b9",
   "metadata": {},
   "outputs": [
    {
     "name": "stdout",
     "output_type": "stream",
     "text": [
      "Point on qa_est\n",
      "[[5.35288274e+02 1.02071289e+03 1.00000000e+00]]\n",
      "Point on qa\n",
      "[[5.35288274e+02 1.02071289e+03 1.00000000e+00]]\n",
      "\n",
      "Point on qb_est\n",
      "[[1.10142136e+03 4.69289322e+02 1.00000000e+00]]\n",
      "Point on qb\n",
      "[[1.10142136e+03 4.69289322e+02 1.00000000e+00]]\n",
      "\n",
      "Point on qc_est\n",
      "[[1.2929300e+03 6.8011778e+02 1.0000000e+00]]\n",
      "Point on qc\n",
      "[[1.2929300e+03 6.8011778e+02 1.0000000e+00]]\n"
     ]
    }
   ],
   "source": [
    "# Check the points\n",
    "qa_est = qa_est/qa_est[-1,:]\n",
    "qb_est = qb_est/qb_est[-1,:]\n",
    "qc_est = qc_est/qc_est[-1,:]\n",
    "idxa = np.random.randint(200)\n",
    "idxb = np.random.randint(200)\n",
    "idxc = np.random.randint(200)\n",
    "print('Point on qa_est')\n",
    "print(qa_est[:,idxa].T)\n",
    "print('Point on qa')\n",
    "print(qa[:,idxa].T)\n",
    "print('\\nPoint on qb_est')\n",
    "print(qb_est[:,idxb].T)\n",
    "print('Point on qb')\n",
    "print(qb[:,idxb].T)\n",
    "print('\\nPoint on qc_est')\n",
    "print(qc_est[:,idxc].T)\n",
    "print('Point on qc')\n",
    "print(qc[:,idxc].T)\n",
    "\n"
   ]
  },
  {
   "cell_type": "markdown",
   "id": "a1241e3d",
   "metadata": {},
   "source": [
    "### Solving Camera Calibration \n",
    "Zhang Zhengyou: Closed form solution \n",
    "\n",
    "\\begin{gather}\n",
    " B = A^{-T} * A^{-1} = \n",
    "  \\begin{bmatrix}\n",
    "   \\ B_{11} & B_{12} & B_{13} \\\\\n",
    "   \\ B_{21} & B_{22} & B_{23} \\\\\n",
    "   \\ B_{31} & B_{32} & B_{33} \n",
    "   \\end{bmatrix}\n",
    "\\end{gather}\n",
    "\n",
    "The matrix is symetric, so we only need to describe the upper diagonal \n",
    "\n",
    "\\begin{gather}\n",
    " b  = \n",
    "  \\begin{bmatrix}\n",
    "   \\ B_{11} & B_{12} & B_{22} & B_{13} & B_{23} & B_{33} \n",
    "   \\end{bmatrix}^T\n",
    "\\end{gather}\n",
    "\n",
    "Let the $i^{th}$ column vector of H be: \n",
    "\\begin{gather}\n",
    " h_i = \n",
    " \\begin{bmatrix}\n",
    "   \\ h_{i1} & h_{i2} & h_{i3} \n",
    "   \\end{bmatrix}^T\n",
    "\\end{gather}\n",
    "\n",
    "\\begin{gather}\n",
    " h_j = \n",
    " \\begin{bmatrix}\n",
    "   \\ h_{j1} & h_{j2} & h_{j3} \n",
    "   \\end{bmatrix}^T\n",
    "\\end{gather}\n",
    "Then:\n",
    "\n",
    "$h_i^T * B * h_j = v_{ij}^T *b$\n",
    "\n",
    "Where: \n",
    "\\begin{gather}\n",
    " v_{ij} = \n",
    " \\begin{bmatrix}\n",
    " \\ (h_{i1}*h_{j1}) & (h_{i1}*h_{j2} +  h_{i2}*h_{j1}) & (h_{i2}*h_{j2}) & (h_{i3}*h_{j1} + h_{i1}*h_{j3}) & (h_{i3}*h_{j2} +     h_{i2}*h_{j3})  & (h_{i3}*h_{j3})\n",
    " \\end{bmatrix}^T\n",
    "\\end{gather}"
   ]
  },
  {
   "cell_type": "code",
   "execution_count": 60,
   "id": "1e57eb35",
   "metadata": {},
   "outputs": [
    {
     "data": {
      "text/plain": [
       "array([12, 23, 10, 22, 17, 6], dtype=object)"
      ]
     },
     "execution_count": 60,
     "metadata": {},
     "output_type": "execute_result"
    }
   ],
   "source": [
    "a = [4, 5, 6]\n",
    "b = [3, 2, 1]\n",
    "build_v(a,b)"
   ]
  },
  {
   "cell_type": "code",
   "execution_count": 61,
   "id": "daeabd7a",
   "metadata": {},
   "outputs": [],
   "source": [
    "def build_v(hi, hj):\n",
    "    \"\"\"\n",
    "    Creates a vector v from 2 column vectors.\n",
    "     vij = [(h_{i1}*h_{j1}), (h_{i1}*h_{j2} + h_{i2}*h_{j1}), (h_{i2}*h_{j2}), (h_{i3}*h_{j1} + h_{i1}*h_{j3}),\n",
    "     (h_{i3}*h_{j2} + h_{i2}*h_{j3}), (h_{i3}*h_{j3})]\n",
    "    \"\"\"\n",
    "    # Create the vector vij\n",
    "    v = np.array([None]*6)\n",
    "    \n",
    "    # Transform and squeez \n",
    "    hi = squeezdim(np.array(hi))\n",
    "    hj = squeezdim(np.array(hj))\n",
    "    \n",
    "    v[0],v[2],v[5] = hi * hj \n",
    "    v[1],v[3] = hi[0]*hj[1:] + hj[0]*hi[1:]\n",
    "    v[4] = hi[2]*hj[1] + hi[1]*hj[2]\n",
    "    \n",
    "    return v    "
   ]
  },
  {
   "cell_type": "code",
   "execution_count": 62,
   "id": "9f0b783d",
   "metadata": {},
   "outputs": [],
   "source": [
    "def build_V(H):\n",
    "    \"\"\"\n",
    "    Check the function build_v\n",
    "    Function that creates the vectors: v11, v12, v22. Following the expression vij on the function. Where i and j \n",
    "    are the columns of H.\n",
    "    \"\"\"\n",
    "    # Generate the vectors \n",
    "    v11 = build_v(H[:,0], H[:,0])\n",
    "    v12 = build_v(H[:,0], H[:,1])\n",
    "    v22 = build_v(H[:,1], H[:,1])\n",
    "    \n",
    "    V_sing = np.array([[*v12],[*(v11-v22)]])\n",
    "    return V_sing\n",
    "    "
   ]
  },
  {
   "cell_type": "code",
   "execution_count": 63,
   "id": "881d9fbe",
   "metadata": {},
   "outputs": [
    {
     "data": {
      "text/plain": [
       "array([[-2.65760566e+03,  3.58742643e+03],\n",
       "       [ 3.27762018e+03,  1.63093959e+04],\n",
       "       [ 5.93522585e+03, -2.04538117e+03],\n",
       "       [ 2.18508012e+00,  2.32283252e+00],\n",
       "       [ 2.18508012e+00, -5.18757761e+00],\n",
       "       [ 1.36877960e-15, -9.54915028e-04]])"
      ]
     },
     "execution_count": 63,
     "metadata": {},
     "output_type": "execute_result"
    }
   ],
   "source": [
    "build_V(Hs[0]).T"
   ]
  },
  {
   "cell_type": "code",
   "execution_count": 64,
   "id": "e5727581",
   "metadata": {},
   "outputs": [],
   "source": [
    "def estimate_b(Hs:list):\n",
    "    \"\"\"\n",
    "    Takes a list of homographiy matrices and calculates the matrix V of all those Homography matrices. \n",
    "    Then Applies singular value decomposition to estimate b matrix following the euaation:\n",
    "    V*b = 0 \n",
    "    \"\"\"\n",
    "    # Create an empty matrix of desired dimensions \n",
    "    n = len(Hs)\n",
    "    # Generate the matrix V\n",
    "    V = np.zeros((2*n,6)) \n",
    "    # Choose the steo size\n",
    "    step = 2\n",
    "    for i,e in zip(range(0,V.shape[0],step),range(n)):\n",
    "        V[i:i+step,:] = build_V(Hs[e])\n",
    "    \n",
    "    _, s, eigVec = np.linalg.svd(V)\n",
    "    # Find the min s standard deviation (s**2 ara singular values)\n",
    "    idx = np.where(s==min(s))\n",
    "    # Select the eigenvector correspondent to the eigenvalue\n",
    "    b = eigVec[idx]\n",
    "# Is b returned in with the same order?\n",
    "    \n",
    "    # Transform the vector into a symetric matrix.    \n",
    "    # Check the transformation, it's not like the upper symetric indexes \n",
    "    \n",
    "    B_dim = 3 # Has to be squared\n",
    "    B = np.zeros((B_dim,B_dim))\n",
    "    # Get ideces of upper diagonal matrix\n",
    "    idx_upp_diag = np.triu_indices(B_dim, k=0) # b contains the offset (diagonal)\n",
    "    B[idx_upp_diag] = b\n",
    "    B = B.T + B - np.diag(np.diag(B))\n",
    "    \n",
    "    return B, b, V\n",
    "    "
   ]
  },
  {
   "cell_type": "code",
   "execution_count": 65,
   "id": "97fa1e52",
   "metadata": {},
   "outputs": [
    {
     "data": {
      "text/plain": [
       "array([[ 4.51834392e-07, -2.70491855e-19,  4.51834392e-07,\n",
       "        -4.33761016e-04, -2.43990572e-04,  9.99999876e-01]])"
      ]
     },
     "execution_count": 65,
     "metadata": {},
     "output_type": "execute_result"
    }
   ],
   "source": [
    "B_est, b, V = estimate_b(Hs)\n",
    "A = np.zeros((3,3))\n",
    "A[0,0] = b[0][0]\n",
    "A[0,1] = b[0][1]\n",
    "A[1,1] = b[0][2]\n",
    "A[0,2] = b[0][3]\n",
    "A[1,2] = b[0][4]\n",
    "A[2,2] = b[0][5]\n",
    "A1 = A.T + A - np.diag(np.diag(A))\n",
    "# A1/A[-1,-1]*B_true[-1,-1]\n",
    "b"
   ]
  },
  {
   "cell_type": "code",
   "execution_count": 66,
   "id": "a1b628ce",
   "metadata": {
    "scrolled": true
   },
   "outputs": [
    {
     "name": "stdout",
     "output_type": "stream",
     "text": [
      "[ 1.0000e-06  0.0000e+00  1.0000e-06 -9.6000e-04 -5.4000e-04  2.2132e+00]\n",
      "[[ 4.51834392e-07 -2.70491855e-19  4.51834392e-07 -4.33761016e-04\n",
      "  -2.43990572e-04  9.99999876e-01]]\n"
     ]
    }
   ],
   "source": [
    "B_true = np.linalg.inv(K).T@np.linalg.inv(K)\n",
    "b_true = np.array([B_true[0,0],B_true[0,1],B_true[1,1],B_true[0,2],B_true[1,2],B_true[2,2]])\n",
    "B_true\n",
    "print(b_true)\n",
    "print(b)"
   ]
  },
  {
   "cell_type": "code",
   "execution_count": 67,
   "id": "56b5cb8f",
   "metadata": {},
   "outputs": [
    {
     "data": {
      "text/plain": [
       "2.2132002740582153"
      ]
     },
     "execution_count": 67,
     "metadata": {},
     "output_type": "execute_result"
    }
   ],
   "source": [
    "s = (b_true/b)[0][0]\n",
    "s"
   ]
  },
  {
   "cell_type": "markdown",
   "id": "dc22ce5d",
   "metadata": {},
   "source": [
    "#### Check if \n",
    "$v_{11}*b_{true} = h_{1}^T*B_{true}*h_1$"
   ]
  },
  {
   "cell_type": "code",
   "execution_count": 68,
   "id": "c60de0f8",
   "metadata": {},
   "outputs": [],
   "source": [
    "h1 = Hs[0][0,:].T\n",
    "v11 = np.array([build_v(h1,h1)]).T\n",
    "b_true = np.expand_dims(b_true, axis=1)"
   ]
  },
  {
   "cell_type": "code",
   "execution_count": 69,
   "id": "bdf850f5",
   "metadata": {},
   "outputs": [
    {
     "name": "stdout",
     "output_type": "stream",
     "text": [
      "2039593.7598095986\n",
      "2039593.7598095988\n"
     ]
    },
    {
     "data": {
      "text/plain": [
       "False"
      ]
     },
     "execution_count": 69,
     "metadata": {},
     "output_type": "execute_result"
    }
   ],
   "source": [
    "print((v11.T@b_true)[0][0])\n",
    "print((h1.T*B_true*h1)[0,0])\n",
    "\n",
    "(v11.T@b_true)[0][0] == (h1.T*B_true*h1)[0,0]"
   ]
  },
  {
   "cell_type": "code",
   "execution_count": 70,
   "id": "230fab11",
   "metadata": {},
   "outputs": [
    {
     "name": "stdout",
     "output_type": "stream",
     "text": [
      "2039593.7597865642\n",
      "2039593.759786564\n"
     ]
    }
   ],
   "source": [
    "print((v11.T@b.T)[0][0]*s)\n",
    "print((h1.T*A1*h1)[0,0]*s)"
   ]
  },
  {
   "cell_type": "markdown",
   "id": "e48f6bbc",
   "metadata": {},
   "source": [
    "Estimate the intrinsics of the camera matrix with b"
   ]
  },
  {
   "cell_type": "code",
   "execution_count": 71,
   "id": "8b580f59",
   "metadata": {},
   "outputs": [],
   "source": [
    "def estimateIntrinsics(Hs):\n",
    "    \"\"\"\n",
    "    Following, A Flexible New Technique for Camera Calibration Paper from Zhengyou Zhang. We calculate the intrinsics \n",
    "    parameters of the camera Matrix K (in the paper refered ad A) from the Matrix B.\n",
    "    We can estimate them as: \n",
    "        B = λ*A.T*A\n",
    "    \n",
    "    \"\"\"\n",
    "    _,b,_ = estimate_b(Hs)\n",
    "    b = squeezdim(b)\n",
    "    v0 = (b[1]*b[3]-b[0]*b[4])/(b[0]*b[2]-b[1]**2)\n",
    "    lamb = b[5]-(b[3]**2+v0*(b[1]*b[3]-b[0]*b[4]))/b[0]\n",
    "    alpha = np.sqrt(lamb/b[0])\n",
    "    beta = np.sqrt(lamb*b[0]/(b[0]*b[2]-b[1]**2))\n",
    "    gamma = -b[1]*alpha**2*beta/lamb\n",
    "    u0 = gamma*v0/beta - b[3]*alpha**2/lamb\n",
    "    \n",
    "    K = np.matrix([[alpha, gamma, u0], [0, beta, v0], [0, 0, 1]])\n",
    "    return K\n",
    "    "
   ]
  },
  {
   "cell_type": "code",
   "execution_count": 72,
   "id": "20885eba",
   "metadata": {},
   "outputs": [
    {
     "data": {
      "text/plain": [
       "matrix([[1.00000000e+03, 5.98652649e-10, 9.60000000e+02],\n",
       "        [0.00000000e+00, 1.00000000e+03, 5.40000000e+02],\n",
       "        [0.00000000e+00, 0.00000000e+00, 1.00000000e+00]])"
      ]
     },
     "execution_count": 72,
     "metadata": {},
     "output_type": "execute_result"
    }
   ],
   "source": [
    "estimateIntrinsics(Hs)"
   ]
  },
  {
   "cell_type": "code",
   "execution_count": 79,
   "id": "0156e587",
   "metadata": {},
   "outputs": [],
   "source": [
    "def estimateExtrinsics(K, Hs):\n",
    "    \"\"\"\n",
    "    Following A Flexible New Technique for Camera Calibration Paper from Zhengyou Zhang. \n",
    "    We calculate the extrinsic parameters, i.e., Rotation matrix and translation vector, R and t respectively.\n",
    "    \n",
    "    Given a list of homography matrices estimate for each homography the roataion matrices Rs and translation vectors ts.\n",
    "    For \n",
    "    \n",
    "    \"\"\"\n",
    "    # Create empty lists to store the values of the rotation matrix and translation vector\n",
    "    Rs = []\n",
    "    ts = []\n",
    "    K_inv = np.linalg.inv(K)  # (3,3)\n",
    "    for H in Hs:\n",
    "        h1 = H[:,0]  # (3,1)\n",
    "        h2 = H[:,1]  # (3,1)\n",
    "        h3 = H[:,2]  # (3,1)\n",
    "        lamb = 1/np.linalg.norm(K_inv@h1)\n",
    "        r1 = lamb*K_inv@h1\n",
    "        r2 = lamb*K_inv@h2\n",
    "        r3 = np.cross(r1.T, r2.T).T\n",
    "        t = lamb*K_inv@h3\n",
    "        R = np.concatenate([r1, r2, r3], axis = 1)\n",
    "        Rs.append(R)\n",
    "        ts.append(t)\n",
    "    \n",
    "    return Rs, ts"
   ]
  },
  {
   "cell_type": "code",
   "execution_count": 80,
   "id": "879a9cd2",
   "metadata": {},
   "outputs": [
    {
     "data": {
      "text/plain": [
       "array([[ 1.05146222,  0.        ,  0.        ],\n",
       "       [ 0.        ,  1.        , -0.3249197 ],\n",
       "       [ 0.        ,  0.3249197 ,  1.        ]])"
      ]
     },
     "execution_count": 80,
     "metadata": {},
     "output_type": "execute_result"
    }
   ],
   "source": [
    "Ra = Rotation.from_euler('xyz', [thetax, 0, 0]).as_matrix()\n",
    "Ra/Ra[-1,-1]"
   ]
  },
  {
   "cell_type": "code",
   "execution_count": 81,
   "id": "47e82d1e",
   "metadata": {},
   "outputs": [
    {
     "data": {
      "text/plain": [
       "matrix([[ 7.43496069e-01, -7.07106781e-01,  2.29752921e-01],\n",
       "        [ 7.43496069e-01,  7.07106781e-01, -2.29752921e-01],\n",
       "        [ 4.65741389e-13,  3.24919696e-01,  1.00000000e+00]])"
      ]
     },
     "execution_count": 81,
     "metadata": {},
     "output_type": "execute_result"
    }
   ],
   "source": [
    "Rs[0]/Rs[0][-1,-1]"
   ]
  },
  {
   "cell_type": "code",
   "execution_count": 82,
   "id": "e94793ae",
   "metadata": {},
   "outputs": [
    {
     "data": {
      "text/plain": [
       "[matrix([[ 7.07106781e-01, -6.72498512e-01,  2.18508012e-01],\n",
       "         [ 7.07106781e-01,  6.72498512e-01, -2.18508012e-01],\n",
       "         [ 4.42946383e-13,  3.09016994e-01,  9.51056516e-01]]),\n",
       " matrix([[ 7.07106781e-01, -7.07106781e-01,  3.38469910e-12],\n",
       "         [ 7.07106781e-01,  7.07106781e-01, -1.27148218e-12],\n",
       "         [-1.49427001e-12,  3.29241736e-12,  1.00000000e+00]]),\n",
       " matrix([[ 7.07106781e-01, -6.72498512e-01, -2.18508012e-01],\n",
       "         [ 7.07106781e-01,  6.72498512e-01,  2.18508012e-01],\n",
       "         [-1.53054878e-12, -3.09016994e-01,  9.51056516e-01]])]"
      ]
     },
     "execution_count": 82,
     "metadata": {},
     "output_type": "execute_result"
    }
   ],
   "source": [
    "Rs, ts = estimateExtrinsics(K, Hs)\n",
    "Rs"
   ]
  },
  {
   "cell_type": "code",
   "execution_count": 83,
   "id": "194c74e1",
   "metadata": {},
   "outputs": [
    {
     "data": {
      "text/plain": [
       "[matrix([[-2.09610107e-13],\n",
       "         [-1.11910481e-13],\n",
       "         [ 1.00000000e+01]]),\n",
       " matrix([[-3.85469434e-13],\n",
       "         [-2.14050999e-13],\n",
       "         [ 1.00000000e+01]]),\n",
       " matrix([[-2.22044605e-13],\n",
       "         [-1.34114941e-13],\n",
       "         [ 1.00000000e+01]])]"
      ]
     },
     "execution_count": 83,
     "metadata": {},
     "output_type": "execute_result"
    }
   ],
   "source": [
    "ts"
   ]
  },
  {
   "cell_type": "code",
   "execution_count": null,
   "id": "73d257a1",
   "metadata": {},
   "outputs": [],
   "source": []
  },
  {
   "cell_type": "code",
   "execution_count": null,
   "id": "9649deb6",
   "metadata": {},
   "outputs": [],
   "source": []
  },
  {
   "cell_type": "code",
   "execution_count": null,
   "id": "cc526854",
   "metadata": {},
   "outputs": [],
   "source": []
  }
 ],
 "metadata": {
  "kernelspec": {
   "display_name": "Python 3 (ipykernel)",
   "language": "python",
   "name": "python3"
  },
  "language_info": {
   "codemirror_mode": {
    "name": "ipython",
    "version": 3
   },
   "file_extension": ".py",
   "mimetype": "text/x-python",
   "name": "python",
   "nbconvert_exporter": "python",
   "pygments_lexer": "ipython3",
   "version": "3.8.12"
  }
 },
 "nbformat": 4,
 "nbformat_minor": 5
}
