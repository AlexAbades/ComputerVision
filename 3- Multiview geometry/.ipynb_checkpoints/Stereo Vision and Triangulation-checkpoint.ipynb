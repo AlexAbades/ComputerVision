{
 "cells": [
  {
   "cell_type": "code",
   "execution_count": 1,
   "id": "e1362a2b",
   "metadata": {},
   "outputs": [],
   "source": [
    "import numpy as np \n",
    "import random\n",
    "from scipy.spatial.transform import Rotation\n",
    "import sfunc as sf\n",
    "import matplotlib.pyplot as plt\n",
    "import os\n",
    "import sys\n",
    "%matplotlib qt \n"
   ]
  },
  {
   "cell_type": "code",
   "execution_count": 2,
   "id": "3790a4de",
   "metadata": {},
   "outputs": [],
   "source": [
    "main = os.getcwd()\n",
    "os.chdir(\"../\")\n",
    "pathf = os.getcwd()\n",
    "os.chdir(main)"
   ]
  },
  {
   "cell_type": "code",
   "execution_count": 3,
   "id": "8413f475",
   "metadata": {},
   "outputs": [],
   "source": [
    "sys.path.insert(1, pathf)\n",
    "import sfunc as sf"
   ]
  },
  {
   "cell_type": "markdown",
   "id": "0c55b37b",
   "metadata": {},
   "source": [
    "# Epipolar Geometry"
   ]
  },
  {
   "cell_type": "markdown",
   "id": "92c06d79",
   "metadata": {},
   "source": [
    "Set up two cameras, both with the internal parameters:\n",
    "\n",
    "$$ K = \\begin{bmatrix} 1000 & 0 & 300 \\\\ 0 & 1000 & 200 \\\\ 0 & 0 & 1 \\end{bmatrix}$$\n",
    "\n",
    "Now, for the first camera — let us call that `Cam` — set the rotation to identity $R_1 = I$ and set the translation to zero $t_1 = 0$. For the second camera `Cam` use the rotation given by the R function: $R_2= R(0.7,−0.5,0.8)$.\n",
    "\n",
    "\n",
    "$$ R(\\theta_x,\\theta_y,\\theta_z) = \\begin{bmatrix} cos(\\theta_z) & -sin(\\theta_z) & 0 \\\\ sin(\\theta_z) & cos(\\theta_z) & 0 \\\\ 0 & 0 & 1 \\end{bmatrix} \\begin{bmatrix} cos(\\theta_y) & 0 & -sin(\\theta_y)\\\\ 0 & 1 & 0 \\\\ sin(\\theta_y) & 0 & cos(\\theta_y) \\end{bmatrix} \\begin{bmatrix} 1 & 0 & 0\\\\ 0 & cos(\\theta_x) & -sin(\\theta_x) \\\\ 0 & sin(\\theta_x) & cos(\\theta_x) \\end{bmatrix}$$\n",
    "\n",
    "and the translation:\n",
    "$$ t_2 = \\begin{bmatrix} 0.2 \\\\ 2 \\\\ 1 \\end{bmatrix}$$\n"
   ]
  },
  {
   "cell_type": "code",
   "execution_count": 4,
   "id": "70e327b5",
   "metadata": {},
   "outputs": [],
   "source": [
    "K = np.matrix(np.array([[1000, 0, 300], [0, 1000, 200], [0, 0, 1]]))"
   ]
  },
  {
   "cell_type": "code",
   "execution_count": 5,
   "id": "89bf7ee3",
   "metadata": {},
   "outputs": [],
   "source": [
    "R1 = np.matrix(np.eye(3))\n",
    "t1 = np.zeros(3)\n",
    "R2 = np.matrix(Rotation.from_euler('xyz', [0.7, -0.5, 0.8]).as_matrix())\n",
    "t2 = np.array([0.2, 2, 1])"
   ]
  },
  {
   "cell_type": "code",
   "execution_count": 6,
   "id": "49270072",
   "metadata": {},
   "outputs": [],
   "source": [
    "Q = np.array([[1,0.5,4,1]]).T"
   ]
  },
  {
   "cell_type": "code",
   "execution_count": 7,
   "id": "d64734d3",
   "metadata": {},
   "outputs": [],
   "source": [
    "q1_hom,q1,_ = sf.projectpoints(K, R1, t1, Q)"
   ]
  },
  {
   "cell_type": "code",
   "execution_count": 8,
   "id": "9d0b5ea7",
   "metadata": {
    "scrolled": true
   },
   "outputs": [],
   "source": [
    "q2_hom,q2,_ = sf.projectpoints(K,R2, t2, Q)"
   ]
  },
  {
   "cell_type": "code",
   "execution_count": 9,
   "id": "13f24798",
   "metadata": {},
   "outputs": [
    {
     "data": {
      "text/plain": [
       "(matrix([[550.],\n",
       "         [325.]]),\n",
       " matrix([[582.47256835],\n",
       "         [185.98985776]]))"
      ]
     },
     "execution_count": 9,
     "metadata": {},
     "output_type": "execute_result"
    }
   ],
   "source": [
    "q1, q2"
   ]
  },
  {
   "cell_type": "markdown",
   "id": "553bd108",
   "metadata": {},
   "source": [
    " ## Cross Operation"
   ]
  },
  {
   "cell_type": "markdown",
   "id": "536e8d8f",
   "metadata": {},
   "source": [
    "$$ CrossOp(p) = [p]_x = \\begin{bmatrix} 0 & -z & y \\\\ z & 0 & -x \\\\ -y & x & 0  \\end{bmatrix}$$\n",
    "\n",
    "As a good habit, verify that your function works by testing it on random vectors to ensure that:\n",
    "$$ [p_1]_x p_2 = p_1 x p_2 $$\n"
   ]
  },
  {
   "cell_type": "code",
   "execution_count": 10,
   "id": "464fc7d2",
   "metadata": {},
   "outputs": [],
   "source": [
    "def crossOp(v):\n",
    "    \"\"\"\n",
    "    v: is a vector, should it be in column vector \n",
    "    \"\"\"\n",
    "    crossv = np.matrix(np.array([[0, -v[2], v[1]],[v[2], 0, -v[0]], [-v[1], v[0], 0]]))\n",
    "    return crossv"
   ]
  },
  {
   "cell_type": "code",
   "execution_count": 11,
   "id": "167b6503",
   "metadata": {},
   "outputs": [
    {
     "data": {
      "text/plain": [
       "matrix([[ 0, -3,  2],\n",
       "        [ 3,  0, -1],\n",
       "        [-2,  1,  0]])"
      ]
     },
     "execution_count": 11,
     "metadata": {},
     "output_type": "execute_result"
    }
   ],
   "source": [
    "v = np.array([1,2,3])\n",
    "crossOp(v)"
   ]
  },
  {
   "cell_type": "markdown",
   "id": "a2b8ea20",
   "metadata": {},
   "source": [
    "Chack if they are the same "
   ]
  },
  {
   "cell_type": "code",
   "execution_count": 12,
   "id": "83daa234",
   "metadata": {},
   "outputs": [
    {
     "data": {
      "text/plain": [
       "array([  2,  17, -12])"
      ]
     },
     "execution_count": 12,
     "metadata": {},
     "output_type": "execute_result"
    }
   ],
   "source": [
    "v = np.array([1,2,3])\n",
    "v2 = np.array([7,2,4])\n",
    "np.cross(v, v2)"
   ]
  },
  {
   "cell_type": "code",
   "execution_count": 13,
   "id": "d3e21287",
   "metadata": {
    "scrolled": true
   },
   "outputs": [
    {
     "data": {
      "text/plain": [
       "matrix([[  2],\n",
       "        [ 17],\n",
       "        [-12]])"
      ]
     },
     "execution_count": 13,
     "metadata": {},
     "output_type": "execute_result"
    }
   ],
   "source": [
    "v = np.array([1,2,3])\n",
    "v2 = np.array([[7,2,4]]).T\n",
    "crossOp(v)*v2"
   ]
  },
  {
   "cell_type": "markdown",
   "id": "888ad3bf",
   "metadata": {},
   "source": [
    "# Fundamental Matrix : F"
   ]
  },
  {
   "cell_type": "code",
   "execution_count": 14,
   "id": "2d4d796b",
   "metadata": {},
   "outputs": [],
   "source": [
    "def fundmat(K1, K2, t1, R1):\n",
    "    \"\"\"\n",
    "    K1, K2: Camera Matrices, \n",
    "    t1: translation vector camera 1\n",
    "    R1: Rotation matrix camera 1\n",
    "    Returns: Fundamental matrix \n",
    "    \"\"\"\n",
    "    # check the shape of the matrices\n",
    "    if t1.shape == (3,1):\n",
    "        pass\n",
    "    else:\n",
    "        t1 = t1.T\n",
    "    \n",
    "    # Compute the inverses\n",
    "    K1_inv, K2_inv = np.linalg.inv(K1), np.linalg.inv(K2)\n",
    "    # Compute essential matrix \n",
    "    E = crossOp(t1)@R1\n",
    "    F = K2_inv.T @ E @ K1_inv\n",
    "    return F"
   ]
  },
  {
   "cell_type": "code",
   "execution_count": 15,
   "id": "42c16d0b",
   "metadata": {},
   "outputs": [
    {
     "data": {
      "text/plain": [
       "matrix([[ 3.29311881e-07,  8.19396327e-07,  1.79162592e-03],\n",
       "        [ 5.15532551e-07, -8.76915984e-07,  9.31426656e-05],\n",
       "        [-1.29882755e-03,  1.51951700e-03, -1.10072682e+00]])"
      ]
     },
     "execution_count": 15,
     "metadata": {},
     "output_type": "execute_result"
    }
   ],
   "source": [
    "F = fundmat(K,K,t2,R2)\n",
    "F"
   ]
  },
  {
   "cell_type": "markdown",
   "id": "d89eabfe",
   "metadata": {},
   "source": [
    "## Epipolar Lines\n",
    "In order to use the Fundamental Matrix we have to use the homogeneous points.                                                   \n",
    "                                $l_2 = F*q_1$"
   ]
  },
  {
   "cell_type": "code",
   "execution_count": 16,
   "id": "3fe20e92",
   "metadata": {},
   "outputs": [
    {
     "data": {
      "text/plain": [
       "matrix([[ 8.95620504e-03],\n",
       "        [ 3.66751496e-04],\n",
       "        [-5.28495581e+00]])"
      ]
     },
     "execution_count": 16,
     "metadata": {},
     "output_type": "execute_result"
    }
   ],
   "source": [
    "l2 = F@q1_hom\n",
    "l2"
   ]
  },
  {
   "cell_type": "markdown",
   "id": "da296a0e",
   "metadata": {},
   "source": [
    "#### To check if a point lien in on line we can check it with:\n",
    "$l^T*q = 0$  \n",
    "Where $l$ is the line and $q$ the point in homogenous coordinates "
   ]
  },
  {
   "cell_type": "code",
   "execution_count": 17,
   "id": "aa3f3bb1",
   "metadata": {},
   "outputs": [
    {
     "data": {
      "text/plain": [
       "matrix([[0.]])"
      ]
     },
     "execution_count": 17,
     "metadata": {},
     "output_type": "execute_result"
    }
   ],
   "source": [
    "np.round(l2.T*q2_hom)"
   ]
  },
  {
   "cell_type": "markdown",
   "id": "51732cb1",
   "metadata": {},
   "source": [
    "Let $Q$ and $Q'$ denote the same 3D point in world space and in the frame of camera one. In other words we have relation:\n",
    "\n",
    "$$ Q' = \\begin{bmatrix} R_1 & t_1 \\\\ 0 & 1 \\end{bmatrix} Q $$\n",
    "\n",
    "Solve\n",
    "$$ Q = \\begin{bmatrix} R_1^T & -R_1^T t_1 \\\\ 0 & 1 \\end{bmatrix} Q' $$\n",
    "\n",
    "<font color='darkblue'> \n",
    "    \n",
    "$$ Q' = \\begin{bmatrix} R_1 & t_1 \\\\ 0 & 1 \\end{bmatrix}  \\begin{bmatrix} R_1^T & -R_1^T t_1 \\\\ 0 & 1 \\end{bmatrix} Q'$$\n",
    "    \n",
    "    \n",
    "$$ Q' = \\begin{bmatrix} R_1 R_1^T & -R_1R_1^T+t_1 \\\\ 0 & 1 \\end{bmatrix}Q'$$\n",
    "    \n",
    "$$ Q' = \\begin{bmatrix} I & 0 \\\\ 0 & 1 \\end{bmatrix}Q'$$\n",
    "    \n",
    "And we find that it is valid! This is true as the matrices are inverses of each other."
   ]
  },
  {
   "cell_type": "markdown",
   "id": "47df68b5",
   "metadata": {},
   "source": [
    "Show that the can work only in the coordinate system of camera one, by showing that we can project points with\n",
    "\n",
    "\n",
    "$$ q_1 = K \\begin{bmatrix} I & 0 \\end{bmatrix} Q' ,   q_2 = K \\begin{bmatrix} R_2' & t_2' \\end{bmatrix} Q'$$\n",
    "\n",
    "where\n",
    "\n",
    "$$ R_2' = R_2 R_1^T, t_2'= t_2 - R_2 R_1^T t_1$$"
   ]
  },
  {
   "cell_type": "markdown",
   "id": "ae2d14e3",
   "metadata": {},
   "source": [
    "<font color='darkblue'> For the first projection in camera one we reduce the projection equation: \n",
    "\n",
    "<font color='darkblue'>\n",
    "$$ q_1 = K\\begin{bmatrix} R_1| & t_1 \\end{bmatrix} Q, $$ \n",
    "$$ = K \\begin{bmatrix} I & 0 \\end{bmatrix} \\begin{bmatrix} R_1 & t_1\\\\ 0 & 1 \\end{bmatrix}Q , $$\n",
    "    \n",
    "$$ = K \\begin{bmatrix} I & 0 \\end{bmatrix} Q' , $$\n",
    "\n",
    "    \n",
    "<font color='darkblue'> For the second projection into camera two we insert: \n",
    "\n",
    "<font color='darkblue'>\n",
    "$$ q_2 = K\\begin{bmatrix} R_2|& t_2 \\end{bmatrix} Q, $$ \n",
    "$$ q_2 = K \\begin{bmatrix} R_2|& t_2 \\end{bmatrix} \\begin{bmatrix} R_1 & t_1\\\\ 0 & 1 \\end{bmatrix} Q' , $$\n",
    "$$ q_2 = K \\begin{bmatrix} R_2 R_1^T & t_2-R_2't_1 \\end{bmatrix} Q' , $$\n",
    "$$ q_2 = K \\begin{bmatrix} R_2' & t_2' \\end{bmatrix} Q' . $$\n",
    "    \n",
    "where $$ R_2'= R_2R_1^T , t_2' = t_2 - R_2't_1  $$ "
   ]
  },
  {
   "cell_type": "markdown",
   "id": "bfa67b2a",
   "metadata": {},
   "source": [
    "## Applied Epipolar Geometry"
   ]
  },
  {
   "cell_type": "code",
   "execution_count": 18,
   "id": "0c16e588",
   "metadata": {},
   "outputs": [],
   "source": [
    "import numpy as np \n",
    "import random\n",
    "from scipy.spatial.transform import Rotation\n",
    "import sfunc as sf\n",
    "import matplotlib.pyplot as plt"
   ]
  },
  {
   "cell_type": "code",
   "execution_count": 19,
   "id": "76d8ad17",
   "metadata": {
    "scrolled": false
   },
   "outputs": [
    {
     "name": "stdout",
     "output_type": "stream",
     "text": [
      "dict_keys(['im1', 'im2', 'R1', 'R2', 't1', 't2', 'K'])\n"
     ]
    }
   ],
   "source": [
    "d = np.load('TwoImageData.npy', allow_pickle=True).item()  # Dicctionary\n",
    "print(d.keys())"
   ]
  },
  {
   "cell_type": "code",
   "execution_count": 20,
   "id": "82e3f56d",
   "metadata": {},
   "outputs": [],
   "source": [
    "im1 = d['im1']\n",
    "im2 = d['im2']\n",
    "R1 = d['R1']\n",
    "R2 = d['R2']\n",
    "t1 = np.squeeze(d['t1'] )\n",
    "t2 = np.squeeze(d['t2'])\n",
    "K = d['K']"
   ]
  },
  {
   "cell_type": "code",
   "execution_count": 21,
   "id": "30989c7c",
   "metadata": {},
   "outputs": [
    {
     "data": {
      "text/plain": [
       "matrix([[ 6.67972386e-12, -7.85049967e-10,  1.17921973e-07],\n",
       "        [-9.75936980e-10, -4.86806510e-12,  3.28699196e-05],\n",
       "        [ 4.23506610e-07, -3.21704080e-05, -2.12002228e-04]])"
      ]
     },
     "execution_count": 21,
     "metadata": {},
     "output_type": "execute_result"
    }
   ],
   "source": [
    "F = fundmat(K,K,t2,R2)\n",
    "F"
   ]
  },
  {
   "cell_type": "code",
   "execution_count": 22,
   "id": "25a45324",
   "metadata": {},
   "outputs": [
    {
     "data": {
      "text/plain": [
       "numpy.ndarray"
      ]
     },
     "execution_count": 22,
     "metadata": {},
     "output_type": "execute_result"
    }
   ],
   "source": [
    "im1.shape\n",
    "type(im1)"
   ]
  },
  {
   "cell_type": "code",
   "execution_count": 23,
   "id": "b9cb15e4",
   "metadata": {},
   "outputs": [],
   "source": [
    "fig = plt.subplots()\n",
    "plt.imshow(im1)\n",
    "n = plt.ginput(1)\n",
    "plt.show()\n"
   ]
  },
  {
   "cell_type": "code",
   "execution_count": 24,
   "id": "1389716a",
   "metadata": {},
   "outputs": [
    {
     "data": {
      "text/plain": [
       "[]"
      ]
     },
     "execution_count": 24,
     "metadata": {},
     "output_type": "execute_result"
    }
   ],
   "source": [
    "n"
   ]
  },
  {
   "cell_type": "code",
   "execution_count": 25,
   "id": "716e1e2c",
   "metadata": {},
   "outputs": [
    {
     "data": {
      "text/plain": [
       "<Figure size 1500x500 with 0 Axes>"
      ]
     },
     "execution_count": 25,
     "metadata": {},
     "output_type": "execute_result"
    }
   ],
   "source": [
    "plt.figure(figsize=(15,5))\n"
   ]
  },
  {
   "cell_type": "code",
   "execution_count": 26,
   "id": "33428642",
   "metadata": {},
   "outputs": [
    {
     "data": {
      "text/plain": [
       "'C:\\\\Users\\\\G531\\\\Documents\\\\8 - Github\\\\ComputerVision\\\\3- Multiview geometry'"
      ]
     },
     "execution_count": 26,
     "metadata": {},
     "output_type": "execute_result"
    }
   ],
   "source": [
    "import os \n",
    "os.getcwd()"
   ]
  },
  {
   "cell_type": "code",
   "execution_count": 27,
   "id": "184c7764",
   "metadata": {},
   "outputs": [],
   "source": [
    "def dis(im1, im2):\n",
    "    plt.subplots(figsize=(15,5))\n",
    "    plt.subplot(1,2,1)\n",
    "    plt.imshow(im1)\n",
    "    plt.subplot(1,2,2)\n",
    "    plt.imshow(im2)"
   ]
  },
  {
   "cell_type": "code",
   "execution_count": 28,
   "id": "701eb7c5",
   "metadata": {},
   "outputs": [],
   "source": [
    "dis(im1,im2)"
   ]
  },
  {
   "cell_type": "markdown",
   "id": "dd0b8cc6",
   "metadata": {},
   "source": [
    "# Triangulation"
   ]
  },
  {
   "cell_type": "code",
   "execution_count": 29,
   "id": "2ced5f49",
   "metadata": {},
   "outputs": [],
   "source": [
    "def squeezdim(v):\n",
    "    \"\"\"\n",
    "    Function that squeezes a vetor into a the form (n,)\n",
    "    v: vector of dimension n.     \n",
    "    \"\"\"\n",
    "    v = np.array(v)\n",
    "    try:\n",
    "        m,n = v.shape\n",
    "    except ValueError:\n",
    "        return v\n",
    "    if m>n: \n",
    "        v = np.squeeze(v, axis=1)\n",
    "    else:\n",
    "        v = np.squeeze(v, axis=0)\n",
    "    return v"
   ]
  },
  {
   "cell_type": "markdown",
   "id": "5242f729",
   "metadata": {},
   "source": [
    "### Calculate matrix B for 1 point and a P "
   ]
  },
  {
   "cell_type": "code",
   "execution_count": 30,
   "id": "c62e0166",
   "metadata": {},
   "outputs": [],
   "source": [
    "def matrix_B_tirnagulation(q, P):\n",
    "    \"\"\"\n",
    "    Creates  B matrix for Triangulation. Follows the next equation:\n",
    "        qh = P*Q\n",
    "    Where qh is a 2D point in homoogenous form [sx, sy, s], P is the Projection Matrix and Q it's a 3D point in homogenous\n",
    "    coordinates [X, Y, Z, 1].\n",
    "    We can rearange it as:\n",
    "        s * [x, y].T = [p(1)*Q, p(2)*Q].T\n",
    "    Where p(i) = row vector of P. P(1) = P[0,:] (1,3) and the scale s = p(3)*Q:\n",
    "        0 = [p(3)*x-p(1), p(3)*y-p(2)].T*Q\n",
    "    \n",
    "    PARAMETERS\n",
    "    q: Point in homogenous fom [sx, sy, s] -> (3,1)\n",
    "    P: projection matrix K*[R t] -> (3,4)\n",
    "    RETURNS\n",
    "    B: B Matrix (2,4)\n",
    "    \"\"\"\n",
    "\n",
    "    q = squeezdim(q)\n",
    "    \n",
    "    if q.shape != (3,):\n",
    "        print('q is not in Homogenous form: ', q.shape)\n",
    "        return False\n",
    "    # Transform into inhomogeous form [x, y, 1] in case it's not in homogenous form. \n",
    "    q = q/q[-1]\n",
    "    \n",
    "    \n",
    "    #  Extract parameters \n",
    "    x = q[0]\n",
    "    y = q[1]\n",
    "    p_1 = squeezdim(P[0,:])\n",
    "    p_2 = squeezdim(P[1,:])\n",
    "    p_3 = squeezdim(P[2,:])\n",
    "    \n",
    "    # Create B\n",
    "    B = np.array([(p_3*x - p_1), (p_3*y-p_2)])\n",
    "    \n",
    "    return B"
   ]
  },
  {
   "cell_type": "code",
   "execution_count": 31,
   "id": "676bf64c",
   "metadata": {},
   "outputs": [],
   "source": [
    "def triangulate(qs:list, P:list):\n",
    "    \"\"\"\n",
    "    Find points in 3D given a set of points in 2D and the Cameras' Projection Matrices used to obtain those 2D points.\n",
    "    Using Linear algorithm.\n",
    "    Create a Matrix B fof (n*2,4) where n is the number of cameras. Check Triabngulate_B for further doc.\n",
    "    One We have B we apply singular value decomposition.\n",
    "        arg min||B*Q||_2\n",
    "    Wehere we impose the constrain of:\n",
    "        ||Q||_2 = 1\n",
    "    To specify that Q hasn't to be 0.\n",
    "    \n",
    "    PARAMETERS\n",
    "    qs: List of points in 2D points in homogenous from. Scale Matters. \n",
    "    P: List of Projection Matrix.\n",
    "    \n",
    "    RETURNS\n",
    "    Q: Estimated point in 3D in Homogenous coordinates [X, Y, Z, 1]\n",
    "    \"\"\"\n",
    "    \n",
    "    # Check The same samount of points and cameras.\n",
    "    if len(qs) != len(P):\n",
    "        print('Different number of 2D points and Projection matrix.')\n",
    "        return False\n",
    "    \n",
    "    # Get the number of cameras\n",
    "    n = len(P)\n",
    "    # Set step for the B matrix \n",
    "    step = 2\n",
    "\n",
    "    # Initializate B\n",
    "    B = np.zeros((step*n, 4))\n",
    "    \n",
    "    for p,q,i in zip(P,qs, range(0,n*step,step)):\n",
    "        B[i:i+step] = matrix_B_tirnagulation(q,p)\n",
    "\n",
    "    _,s,eigVec = np.linalg.svd(B)\n",
    "    # Find Min \n",
    "    idx = np.where(s==min(s))\n",
    "    # Select the eigenvector correspondent to the eigenvalue\n",
    "    Q = eigVec[idx]\n",
    "    \n",
    "    return  Q"
   ]
  },
  {
   "cell_type": "code",
   "execution_count": 32,
   "id": "2787e2cf",
   "metadata": {},
   "outputs": [],
   "source": [
    "def projectMat(K, R, t):\n",
    "    \"\"\"\n",
    "    Given the Camera Matrix, the Rotation Matrix and the translation vector. Creates the Projection Matrix.\n",
    "    P = K*[R t]\n",
    "    \n",
    "    K-> Camera Matrix\n",
    "    R-> Rotation Matrix\n",
    "    t-> Translation vector\n",
    "    \n",
    "    P-> Projection Matrix.\n",
    "    \"\"\"\n",
    "    \n",
    "    if K.shape != (3,3):\n",
    "        print('Check your Camera Matrix, it should have dimensions (3,3) and it has: ', K.shape)\n",
    "    if R.shape != (3,3):\n",
    "        print('Check your Rotatio Matrix, it should have dimensions (3,3) and it has: ', R.shape)\n",
    "    if t.shape == (3,1):\n",
    "        pass \n",
    "    else:\n",
    "        t = squeezdim(t).reshape(-1,1)\n",
    "    \n",
    "    Rt = np.column_stack([R, t])\n",
    "    P = K@Rt\n",
    "    \n",
    "    return P"
   ]
  },
  {
   "cell_type": "markdown",
   "id": "9a1b2ab9",
   "metadata": {},
   "source": [
    "***Create:*** <br>\n",
    "    Camera matrix<br>\n",
    "    Translation Vectors<br> \n",
    "    Rotation Matrix<br>\n",
    "    Projection Matrix<br>\n",
    "    Projected Points<br>\n",
    "    List of points <br>\n",
    "    List of Projected Matrices"
   ]
  },
  {
   "cell_type": "code",
   "execution_count": 33,
   "id": "12553603",
   "metadata": {},
   "outputs": [],
   "source": [
    "K = np.matrix(np.array([[1000, 0, 300], [0, 1000, 200], [0, 0, 1]]))\n",
    "\n",
    "t1 = np.zeros(3)\n",
    "t2 = np.array([0.2, 2, 1])\n",
    "t3 = np.array([0.9, 1.6, 1])\n",
    "t4 = np.array([2, 1, .6])\n",
    "t5 = np.array([1.1, -1, .9])\n",
    "t6 = np.array([4, -1, -2])\n",
    "t7 = np.array([-5, 5, 2])\n",
    "\n",
    "R1 = np.matrix(np.eye(3))\n",
    "R2 = np.matrix(Rotation.from_euler('xyz', [0.7, -0.5, 0.8]).as_matrix())\n",
    "R3 = np.matrix(Rotation.from_euler('xyz', [-0.9, 0.2, 0.8]).as_matrix())\n",
    "R4 = np.matrix(Rotation.from_euler('xyz', [0.5, -0.1, 0.5]).as_matrix())\n",
    "R5 = np.matrix(Rotation.from_euler('xyz', [-0.3, 0.5, 0.4]).as_matrix())\n",
    "R6 = np.matrix(Rotation.from_euler('xyz', [-0.9, 0.4, -0.5]).as_matrix())\n",
    "R7 = np.matrix(Rotation.from_euler('xyz', [-0.4, -0.2, 0.9]).as_matrix())"
   ]
  },
  {
   "cell_type": "code",
   "execution_count": 34,
   "id": "83659bad",
   "metadata": {},
   "outputs": [],
   "source": [
    "P1 = projectMat(K, R1, t1)\n",
    "P2 = projectMat(K, R2, t2)\n",
    "P3 = projectMat(K, R3, t3)\n",
    "P4 = projectMat(K, R4, t4)\n",
    "P5 = projectMat(K, R5, t5)\n",
    "P6 = projectMat(K, R6, t6)\n",
    "P7 = projectMat(K, R7, t7)"
   ]
  },
  {
   "cell_type": "code",
   "execution_count": 35,
   "id": "633c404e",
   "metadata": {},
   "outputs": [],
   "source": [
    "Q1 = np.array([[5, 3, 1, 1]]).T\n",
    "\n",
    "q1 = P1@Q1\n",
    "q2 = P2@Q1\n",
    "q3 = P3@Q1\n",
    "q4 = P4@Q1\n",
    "q5 = P5@Q1\n",
    "q6 = P6@Q1\n",
    "q7 = P7@Q1\n",
    "\n",
    "q1n = q1/q1[-1]\n",
    "q2n = q2/q2[-1]\n",
    "q3n = q3/q3[-1]\n",
    "q4n = q4/q4[-1]\n",
    "q5n = q5/q5[-1]\n",
    "q6n = q6/q6[-1]\n",
    "q7n = q7/q7[-1]\n",
    "\n",
    "qs = [q1, q2, q3, q4, q5]\n",
    "Ps = [P1, P2, P3, P4, P5]"
   ]
  },
  {
   "cell_type": "code",
   "execution_count": 40,
   "id": "f2722547",
   "metadata": {},
   "outputs": [
    {
     "data": {
      "text/plain": [
       "[matrix([[1000.,    0.,  300.,    0.],\n",
       "         [   0., 1000.,  200.,    0.],\n",
       "         [   0.,    0.,    1.,    0.]]),\n",
       " matrix([[ 7.55245320e+02, -5.94238880e+02,  4.08025317e+02,\n",
       "           5.00000000e+02],\n",
       "         [ 7.25424304e+02,  4.24382932e+02, -5.77631982e+02,\n",
       "           2.20000000e+03],\n",
       "         [ 4.79425539e-01,  5.65354208e-01,  6.71212166e-01,\n",
       "           1.00000000e+00]]),\n",
       " matrix([[ 6.23218161e+02, -7.84653065e+02, -2.93118902e+02,\n",
       "           1.20000000e+03],\n",
       "         [ 6.63322863e+02,  1.67900200e+02,  7.56182718e+02,\n",
       "           1.80000000e+03],\n",
       "         [-1.98669331e-01, -7.67712524e-01,  6.09219154e-01,\n",
       "           1.00000000e+00]]),\n",
       " matrix([[ 9.03148329e+02, -3.19629832e+02,  4.14921517e+02,\n",
       "           2.18000000e+03],\n",
       "         [ 4.96997091e+02,  8.42610639e+02, -2.88099293e+02,\n",
       "           1.12000000e+03],\n",
       "         [ 9.98334166e-02,  4.77030408e-01,  8.73198304e-01,\n",
       "           6.00000000e-01]]),\n",
       " matrix([[ 6.64479405e+02, -5.80324427e+02,  5.58292647e+02,\n",
       "           1.37000000e+03],\n",
       "         [ 2.45861639e+02,  7.72881735e+02,  6.18228015e+02,\n",
       "          -8.20000000e+02],\n",
       "         [-4.79425539e-01, -2.59343380e-01,  8.38386644e-01,\n",
       "           9.00000000e-01]])]"
      ]
     },
     "execution_count": 40,
     "metadata": {},
     "output_type": "execute_result"
    }
   ],
   "source": [
    "Ps"
   ]
  },
  {
   "cell_type": "markdown",
   "id": "235ad89e",
   "metadata": {},
   "source": [
    "##### Apply triangulation"
   ]
  },
  {
   "cell_type": "code",
   "execution_count": 162,
   "id": "0e350fe1",
   "metadata": {},
   "outputs": [],
   "source": [
    "Q, B = triangulate(qs, Ps)"
   ]
  },
  {
   "cell_type": "markdown",
   "id": "edde5437",
   "metadata": {},
   "source": [
    "Scale the Obtained point Q"
   ]
  },
  {
   "cell_type": "code",
   "execution_count": 163,
   "id": "9e1b623b",
   "metadata": {
    "scrolled": true
   },
   "outputs": [
    {
     "data": {
      "text/plain": [
       "array([[5., 3., 1., 1.]])"
      ]
     },
     "execution_count": 163,
     "metadata": {},
     "output_type": "execute_result"
    }
   ],
   "source": [
    "Q = Q/Q[-1,-1]\n",
    "Q"
   ]
  },
  {
   "cell_type": "markdown",
   "id": "671a0c90",
   "metadata": {},
   "source": [
    "Use more points"
   ]
  },
  {
   "cell_type": "code",
   "execution_count": 164,
   "id": "c2eea8bd",
   "metadata": {},
   "outputs": [],
   "source": [
    "qs = [q1, q2, q3, q4, q5, q6, q7]\n",
    "Ps = [P1, P2, P3, P4, P5, q6, q7]\n",
    "Q, B = triangulate(qs, Ps)"
   ]
  },
  {
   "cell_type": "code",
   "execution_count": 165,
   "id": "628d367e",
   "metadata": {
    "scrolled": true
   },
   "outputs": [
    {
     "data": {
      "text/plain": [
       "array([[5., 3., 1., 1.]])"
      ]
     },
     "execution_count": 165,
     "metadata": {},
     "output_type": "execute_result"
    }
   ],
   "source": [
    "Q = Q/Q[-1,-1]\n",
    "Q"
   ]
  },
  {
   "cell_type": "markdown",
   "id": "4007ff71",
   "metadata": {},
   "source": [
    "Transform into homogenous"
   ]
  },
  {
   "cell_type": "code",
   "execution_count": 166,
   "id": "d2e2a2c1",
   "metadata": {},
   "outputs": [],
   "source": [
    "qs = [q1n, q2n, q3n, q4n, q5n, q6n ,q7n]\n",
    "Ps = [P1, P2, P3, P4, P5, P6, P7]"
   ]
  },
  {
   "cell_type": "code",
   "execution_count": 167,
   "id": "397749f4",
   "metadata": {},
   "outputs": [
    {
     "data": {
      "text/plain": [
       "array([[5., 3., 1., 1.]])"
      ]
     },
     "execution_count": 167,
     "metadata": {},
     "output_type": "execute_result"
    }
   ],
   "source": [
    "Q, B = triangulate(qs, Ps)\n",
    "Q = Q/Q[-1,-1]\n",
    "Q"
   ]
  },
  {
   "cell_type": "code",
   "execution_count": null,
   "id": "e47e3401",
   "metadata": {},
   "outputs": [],
   "source": []
  },
  {
   "cell_type": "code",
   "execution_count": null,
   "id": "5b385f60",
   "metadata": {},
   "outputs": [],
   "source": []
  },
  {
   "cell_type": "code",
   "execution_count": null,
   "id": "c8914b93",
   "metadata": {},
   "outputs": [],
   "source": []
  },
  {
   "cell_type": "code",
   "execution_count": null,
   "id": "156a04a5",
   "metadata": {},
   "outputs": [],
   "source": []
  }
 ],
 "metadata": {
  "kernelspec": {
   "display_name": "Python 3 (ipykernel)",
   "language": "python",
   "name": "python3"
  },
  "language_info": {
   "codemirror_mode": {
    "name": "ipython",
    "version": 3
   },
   "file_extension": ".py",
   "mimetype": "text/x-python",
   "name": "python",
   "nbconvert_exporter": "python",
   "pygments_lexer": "ipython3",
   "version": "3.8.12"
  }
 },
 "nbformat": 4,
 "nbformat_minor": 5
}
