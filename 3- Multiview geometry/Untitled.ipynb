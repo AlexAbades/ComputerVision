{
 "cells": [
  {
   "cell_type": "code",
   "execution_count": 1,
   "id": "8a7e90bd",
   "metadata": {},
   "outputs": [],
   "source": [
    "import numpy as np \n",
    "import random\n",
    "from scipy.spatial.transform import Rotation\n",
    "import sfunc as sf\n",
    "import matplotlib.pyplot as plt\n",
    "import os\n",
    "import sys"
   ]
  },
  {
   "cell_type": "code",
   "execution_count": 2,
   "id": "af7935b7",
   "metadata": {},
   "outputs": [],
   "source": [
    "main = os.getcwd()\n",
    "os.chdir(\"../\")\n",
    "pathf = os.getcwd()\n",
    "os.chdir(main)"
   ]
  },
  {
   "cell_type": "code",
   "execution_count": 4,
   "id": "2982c0d8",
   "metadata": {},
   "outputs": [],
   "source": [
    "sys.path.insert(1, pathf)\n",
    "import sfunc as sf"
   ]
  },
  {
   "cell_type": "code",
   "execution_count": 5,
   "id": "99a87bef",
   "metadata": {},
   "outputs": [
    {
     "data": {
      "text/plain": [
       "array([[-0.5       , -0.5       , -0.5       ],\n",
       "       [-0.5       , -0.5       , -0.43333333],\n",
       "       [-0.5       , -0.5       , -0.36666667],\n",
       "       [-0.5       , -0.5       , -0.3       ],\n",
       "       [-0.5       , -0.5       , -0.23333333],\n",
       "       [-0.5       , -0.5       , -0.16666667],\n",
       "       [-0.5       , -0.5       , -0.1       ],\n",
       "       [-0.5       , -0.5       , -0.03333333],\n",
       "       [-0.5       , -0.5       ,  0.03333333],\n",
       "       [-0.5       , -0.5       ,  0.1       ]])"
      ]
     },
     "execution_count": 5,
     "metadata": {},
     "output_type": "execute_result"
    }
   ],
   "source": [
    "Qh = sf.box3d(16)[:,:10]\n",
    "Qh.T"
   ]
  },
  {
   "cell_type": "code",
   "execution_count": 6,
   "id": "2d915863",
   "metadata": {},
   "outputs": [
    {
     "ename": "NameError",
     "evalue": "name 'K' is not defined",
     "output_type": "error",
     "traceback": [
      "\u001b[1;31m---------------------------------------------------------------------------\u001b[0m",
      "\u001b[1;31mNameError\u001b[0m                                 Traceback (most recent call last)",
      "\u001b[1;32m~\\AppData\\Local\\Temp/ipykernel_18588/3818564558.py\u001b[0m in \u001b[0;36m<module>\u001b[1;34m\u001b[0m\n\u001b[1;32m----> 1\u001b[1;33m \u001b[0mq1h\u001b[0m\u001b[1;33m,\u001b[0m \u001b[0mq1nh\u001b[0m\u001b[1;33m,\u001b[0m \u001b[0mP1\u001b[0m \u001b[1;33m=\u001b[0m \u001b[0msf\u001b[0m\u001b[1;33m.\u001b[0m\u001b[0mprojectpoints\u001b[0m\u001b[1;33m(\u001b[0m\u001b[0mK\u001b[0m\u001b[1;33m,\u001b[0m \u001b[0mR1\u001b[0m\u001b[1;33m,\u001b[0m \u001b[0mt1\u001b[0m\u001b[1;33m,\u001b[0m \u001b[0mQh\u001b[0m\u001b[1;33m)\u001b[0m\u001b[1;33m\u001b[0m\u001b[1;33m\u001b[0m\u001b[0m\n\u001b[0m\u001b[0;32m      2\u001b[0m \u001b[0mq2h\u001b[0m\u001b[1;33m,\u001b[0m \u001b[0mq2nh\u001b[0m\u001b[1;33m,\u001b[0m \u001b[0mP2\u001b[0m \u001b[1;33m=\u001b[0m \u001b[0msf\u001b[0m\u001b[1;33m.\u001b[0m\u001b[0mprojectpoints\u001b[0m\u001b[1;33m(\u001b[0m\u001b[0mK\u001b[0m\u001b[1;33m,\u001b[0m \u001b[0mR2\u001b[0m\u001b[1;33m,\u001b[0m \u001b[0mt2\u001b[0m\u001b[1;33m,\u001b[0m \u001b[0mQh\u001b[0m\u001b[1;33m)\u001b[0m\u001b[1;33m\u001b[0m\u001b[1;33m\u001b[0m\u001b[0m\n\u001b[0;32m      3\u001b[0m \u001b[0mq1h\u001b[0m\u001b[1;33m.\u001b[0m\u001b[0mT\u001b[0m\u001b[1;33m\u001b[0m\u001b[1;33m\u001b[0m\u001b[0m\n",
      "\u001b[1;31mNameError\u001b[0m: name 'K' is not defined"
     ]
    }
   ],
   "source": [
    "q1h, q1nh, P1 = sf.projectpoints(K, R1, t1, Qh)\n",
    "q2h, q2nh, P2 = sf.projectpoints(K, R2, t2, Qh)\n",
    "q1h.T"
   ]
  },
  {
   "cell_type": "code",
   "execution_count": null,
   "id": "1608b818",
   "metadata": {},
   "outputs": [],
   "source": []
  }
 ],
 "metadata": {
  "kernelspec": {
   "display_name": "Python 3 (ipykernel)",
   "language": "python",
   "name": "python3"
  },
  "language_info": {
   "codemirror_mode": {
    "name": "ipython",
    "version": 3
   },
   "file_extension": ".py",
   "mimetype": "text/x-python",
   "name": "python",
   "nbconvert_exporter": "python",
   "pygments_lexer": "ipython3",
   "version": "3.8.12"
  }
 },
 "nbformat": 4,
 "nbformat_minor": 5
}
