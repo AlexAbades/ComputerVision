{
 "cells": [
  {
   "cell_type": "markdown",
   "id": "5e2e61cc",
   "metadata": {},
   "source": [
    "### Triangulation of a single point"
   ]
  },
  {
   "cell_type": "code",
   "execution_count": 1,
   "id": "5fded969",
   "metadata": {},
   "outputs": [],
   "source": [
    "import numpy as np \n",
    "import cv2\n",
    "import skimage.io\n",
    "import matplotlib.pyplot as plt \n",
    "import itertools \n",
    "import pandas as pd\n",
    "import os\n",
    "import sys\n",
    "from scipy.optimize import least_squares"
   ]
  },
  {
   "cell_type": "markdown",
   "id": "5ba5a548",
   "metadata": {},
   "source": [
    "Get current path, and the path where the library is"
   ]
  },
  {
   "cell_type": "code",
   "execution_count": 2,
   "id": "41a543f5",
   "metadata": {
    "scrolled": true
   },
   "outputs": [],
   "source": [
    "main = os.getcwd()\n",
    "os.chdir(\"../\")\n",
    "pathf = os.getcwd()\n",
    "os.chdir(main)"
   ]
  },
  {
   "cell_type": "markdown",
   "id": "580dbbeb",
   "metadata": {},
   "source": [
    "Import library with sys"
   ]
  },
  {
   "cell_type": "code",
   "execution_count": 3,
   "id": "c91ca8cb",
   "metadata": {},
   "outputs": [],
   "source": [
    "sys.path.insert(1, pathf)\n",
    "import sfunc as sf"
   ]
  },
  {
   "cell_type": "code",
   "execution_count": 4,
   "id": "b6e9b6a8",
   "metadata": {},
   "outputs": [],
   "source": [
    "R1 = R2 = np.eye(3)\n",
    "t1 = np.array([[0],[0],[1]])\n",
    "t2 = np.array([[0, 0, 20]]).T\n",
    "f = 700 \n",
    "d_x = 600 \n",
    "d_y = 400\n",
    "K1 = K2 = np.array([[f, 0, d_x],[0, f, d_y], [0, 0, 1]])\n",
    "Qnh = np.array([[1, 1, 0]]).T"
   ]
  },
  {
   "cell_type": "code",
   "execution_count": 5,
   "id": "08ca4a76",
   "metadata": {},
   "outputs": [],
   "source": [
    "def squeezdim(v):\n",
    "    \"\"\"\n",
    "    Function that squeezes a vetor into a the form (n,)\n",
    "    v: vector of dimension n.     \n",
    "    \"\"\"\n",
    "    try:\n",
    "        m,n = v.shape\n",
    "    except ValueError:\n",
    "        return v\n",
    "    if m>n: \n",
    "        v = np.squeeze(v, axis=1)\n",
    "    else:\n",
    "        v = np.squeeze(v, axis=0)\n",
    "    return v"
   ]
  },
  {
   "cell_type": "code",
   "execution_count": 6,
   "id": "c67ecec7",
   "metadata": {},
   "outputs": [],
   "source": [
    "def ProjectMat(K, R, t):\n",
    "    \"\"\"\n",
    "    Given the Camera Matrix, the Rotation Matrix and the translation vector. Creates the Projection Matrix.\n",
    "    P = K*[R t]\n",
    "    K-> Camera Matrix\n",
    "    R-> Rotation Matrix\n",
    "    t-> Translation vector\n",
    "    \n",
    "    P-> Projection Matrix.\n",
    "    \"\"\"\n",
    "    \n",
    "    if K.shape != (3,3):\n",
    "        print('Check your Camera Matrix, it should have dimensions (3,3) and it has: ', K.shape)\n",
    "    if R.shape != (3,3):\n",
    "        print('Check your Rotatio Matrix, it should have dimensions (3,3) and it has: ', R.shape)\n",
    "    if t.shape == (3,1):\n",
    "        pass \n",
    "    else:\n",
    "        t = squeezdim(t).reshape(-1,1)\n",
    "    \n",
    "    Rt = np.column_stack([R, t])\n",
    "    P = K@Rt\n",
    "    \n",
    "    return P"
   ]
  },
  {
   "cell_type": "markdown",
   "id": "d1091c0b",
   "metadata": {},
   "source": [
    "Projection Matrix: $P_1$ and $P_2$. Remember that the point Q has to be in homogenous form [X, Y, Z, 1]"
   ]
  },
  {
   "cell_type": "code",
   "execution_count": 7,
   "id": "65a49022",
   "metadata": {},
   "outputs": [],
   "source": [
    "P1 = ProjectMat(K1, R1, t1)\n",
    "P2 = ProjectMat(K2, R2, t2)"
   ]
  },
  {
   "cell_type": "code",
   "execution_count": 8,
   "id": "60f73d4f",
   "metadata": {},
   "outputs": [
    {
     "data": {
      "text/plain": [
       "array([[1.],\n",
       "       [1.],\n",
       "       [0.],\n",
       "       [1.]])"
      ]
     },
     "execution_count": 8,
     "metadata": {},
     "output_type": "execute_result"
    }
   ],
   "source": [
    "Qh = sf.hom(Qnh)\n",
    "Qh"
   ]
  },
  {
   "cell_type": "code",
   "execution_count": 9,
   "id": "d1ff3dcc",
   "metadata": {},
   "outputs": [
    {
     "data": {
      "text/plain": [
       "array([[635.],\n",
       "       [435.]])"
      ]
     },
     "execution_count": 9,
     "metadata": {},
     "output_type": "execute_result"
    }
   ],
   "source": [
    "q1h = P1@Qh\n",
    "q2h = P2@Qh\n",
    "\n",
    "q1nh = sf.inhom(q1h)\n",
    "q2nh = sf.inhom(q2h)\n",
    "q2nh"
   ]
  },
  {
   "cell_type": "markdown",
   "id": "34b129b9",
   "metadata": {},
   "source": [
    "As we are trying to simulate some projections from a 3D poin into 2 different cameras, we add some noise to the projection."
   ]
  },
  {
   "cell_type": "code",
   "execution_count": 10,
   "id": "c09cda66",
   "metadata": {},
   "outputs": [
    {
     "data": {
      "text/plain": [
       "Text(0.5, 0.98, 'Triangulation')"
      ]
     },
     "execution_count": 10,
     "metadata": {},
     "output_type": "execute_result"
    },
    {
     "data": {
      "image/png": "[encoded data removed]",
      "text/plain": [
       "<Figure size 1080x360 with 2 Axes>"
      ]
     },
     "metadata": {
      "needs_background": "light"
     },
     "output_type": "display_data"
    }
   ],
   "source": [
    "noise = np.array([[10, -10]]).T\n",
    "q1_noisy = q1nh + noise \n",
    "q2_noisy = q2nh + noise \n",
    "fig, ax = plt.subplots(1,2, figsize=(15,5))\n",
    "\n",
    "ax[0].plot(q1nh[0], q1nh[1], '+',  label='Tue Point')\n",
    "ax[0].plot(q1_noisy[0], q1_noisy[1], '+r', label = 'Projected Point')\n",
    "ax[0].set_xlim([1290, 1320])\n",
    "ax[0].set_ylim([1080, 1110])\n",
    "ax[0].legend()\n",
    "ax[0].set_title('Camera 1')\n",
    "\n",
    "ax[1].plot(q2nh[0], q2nh[1], '+', label='Tue Point')\n",
    "ax[1].plot(q2_noisy[0], q2_noisy[1], '+r', label = 'Projected Point')\n",
    "ax[1].set_xlim([630, 655])\n",
    "ax[1].set_ylim([420, 440])\n",
    "ax[1].legend()\n",
    "ax[1].set_title('Camera 2')\n",
    "\n",
    "fig.suptitle('Triangulation')"
   ]
  },
  {
   "cell_type": "markdown",
   "id": "98b26d8f",
   "metadata": {},
   "source": [
    "#### Add less noise "
   ]
  },
  {
   "cell_type": "code",
   "execution_count": 11,
   "id": "6c283eff",
   "metadata": {},
   "outputs": [],
   "source": [
    "noise = np.array([[1, -1, 0]]).T\n",
    "q1_noisy = q1h + noise \n",
    "q2_noisy = q2h + noise "
   ]
  },
  {
   "cell_type": "markdown",
   "id": "967690ef",
   "metadata": {},
   "source": [
    "Calculate $\\tilde{Q}$  with triangulation"
   ]
  },
  {
   "cell_type": "code",
   "execution_count": 12,
   "id": "38def98d",
   "metadata": {},
   "outputs": [
    {
     "data": {
      "text/plain": [
       "array([[1.00142857e+00],\n",
       "       [9.98571429e-01],\n",
       "       [2.66657044e-16],\n",
       "       [1.00000000e+00]])"
      ]
     },
     "execution_count": 12,
     "metadata": {},
     "output_type": "execute_result"
    }
   ],
   "source": [
    "qs = [q1_noisy, q2_noisy]\n",
    "Ps = [P1, P2]\n",
    "Q_est = sf.triangulate(qs, Ps)\n",
    "Q_est"
   ]
  },
  {
   "cell_type": "markdown",
   "id": "74a6079a",
   "metadata": {},
   "source": [
    "### Reproject the points into the camera \n",
    "$\\tilde{q_1} = P1*\\tilde{Q}$ <br>\n",
    "$\\tilde{q_2} = P2*\\tilde{Q}$ "
   ]
  },
  {
   "cell_type": "code",
   "execution_count": 13,
   "id": "f631ca66",
   "metadata": {},
   "outputs": [],
   "source": [
    "q1_est = P1@Q_est\n",
    "q2_est = P2@Q_est"
   ]
  },
  {
   "cell_type": "code",
   "execution_count": 14,
   "id": "40ef665a",
   "metadata": {
    "scrolled": true
   },
   "outputs": [
    {
     "name": "stdout",
     "output_type": "stream",
     "text": [
      "q1: \n",
      " [[1300.]\n",
      " [1100.]]\n",
      "Estimation of q1: \n",
      " [[1.301e+03]\n",
      " [1.099e+03]\n",
      " [1.000e+00]]\n",
      "q2: \n",
      " [[635.]\n",
      " [435.]]\n",
      "Estimation of q2: \n",
      " [[635.05]\n",
      " [434.95]\n",
      " [  1.  ]]\n"
     ]
    }
   ],
   "source": [
    "print('q1: \\n', q1nh)\n",
    "print('Estimation of q1: \\n', q1_est/q1_est[-1])\n",
    "print('q2: \\n', q2nh)\n",
    "print('Estimation of q2: \\n', q2_est/q2_est[-1])"
   ]
  },
  {
   "cell_type": "code",
   "execution_count": null,
   "id": "7c4ce4f1",
   "metadata": {},
   "outputs": [],
   "source": []
  },
  {
   "cell_type": "code",
   "execution_count": 15,
   "id": "b24910e1",
   "metadata": {},
   "outputs": [],
   "source": [
    "def rmserror(qest, q):\n",
    "    \"\"\"\n",
    "    Calculates the RMSE error of 2 different vectorsm could be in 2D or in 3D.\n",
    "    We substract one vector to the other, square each term, sum the terms and apply the square root.\n",
    "    \n",
    "    E = ||(qest-q)||_2 = sqrt((qest-q)^2)\n",
    "    \n",
    "    PARAMETERS \n",
    "    qest: 2D points in homogenous or inhonogenous form.\n",
    "    q: set of points in homogenous or inhomogenous form.\n",
    "    \n",
    "    qest and q must have the same dimensions \n",
    "\n",
    "    RETURN \n",
    "    root mean sware Error\n",
    "\n",
    "    \"\"\"\n",
    "    # Transform into arryas \n",
    "    qest = np.array(qest)\n",
    "    q = np.array(q)\n",
    "    if qest.shape != q.shape:\n",
    "        print(\"The dimensions of the matrices don't match, make sure that they are in homgogenous form or inhomogenous\")\n",
    "        print('qest shape: ', qest.shape)\n",
    "        print('q shape: ', q.shape)\n",
    "        return False\n",
    "    \n",
    "    e = np.sqrt(sum(np.sum((qest-q)**2,1)))\n",
    "    return e"
   ]
  },
  {
   "cell_type": "code",
   "execution_count": 32,
   "id": "3243202f",
   "metadata": {},
   "outputs": [
    {
     "name": "stdout",
     "output_type": "stream",
     "text": [
      "The error between Q_est and Q is:  0.0020203050891044456\n"
     ]
    }
   ],
   "source": [
    "error = rmserror(Q_est, Qh)\n",
    "print('The error between Q_est and Q is: ', error)"
   ]
  },
  {
   "cell_type": "markdown",
   "id": "d28282ee",
   "metadata": {},
   "source": [
    "Helper functions "
   ]
  },
  {
   "cell_type": "code",
   "execution_count": 29,
   "id": "4360cd54",
   "metadata": {},
   "outputs": [],
   "source": [
    "def project2D_P(Ps, Q):\n",
    "    \"\"\"\n",
    "    Calculates the projection of a 3D point Given some Projection Matrix. Q and q in HOMOGENOUS coordinates.\n",
    "        q = P*Q\n",
    "    \n",
    "    PARAMETERS\n",
    "    Ps: List of Projection Matrix. (3,4)\n",
    "    Q: Point in 3D in HOMOGENOUS coordinates. [X, Y, Z, 1]. Shape-> (4,n)\n",
    "    \n",
    "    RETURN\n",
    "    qs: 2D projection in HOMOGENOUS coordinates of the 3D Point \"Q\", with the different Projection Matrix.\n",
    "    If Q is a single Point: qs is a 2D array (3,n) where \"n\" (each column) is a Projection of a different camera\n",
    "    If Q is a set of points, qs is a 3D array (3, m, n, where \"m\" is the amount of points in Q->(4,m) and \"n\" is the \n",
    "    amount of cameras provided\n",
    "    \"\"\" \n",
    "    \n",
    "    # Number of Projection Matrices provided\n",
    "    n = len(Ps)\n",
    "    \n",
    "    # Check if more than one point has been provided:\n",
    "    try:\n",
    "        # Only one Point has been provided\n",
    "        Q = squeezdim(Q).reshape(-1,1)\n",
    "        if Q.shape != (4,1):\n",
    "            print('Dimensions of the point are not in Homogenous form (4,1): ', Q.shape)\n",
    "            return False \n",
    "\n",
    "        # Initialize qs for computational efficiency\n",
    "        qs = np.zeros((3,n))\n",
    "        # Calculate the projection for each camera, \n",
    "        for P,i in zip(Ps,range(n)):\n",
    "            qs[:,i] = sf.squeezdim(P@Q)\n",
    "        \n",
    "    except ValueError:\n",
    "        # More than one point has been Provided\n",
    "        row, col = Q.shape\n",
    "        if row != 4:\n",
    "            print('Dimensions of the points are not in Homogenous form (4,n): ', Q.shape)\n",
    "        qs = np.zeros((3, col, n))\n",
    "        for P, i in zip(Ps, range(n)):\n",
    "            qs[:,:,i] = P@Q \n",
    "\n",
    "    return qs"
   ]
  },
  {
   "cell_type": "markdown",
   "id": "8eca4c95",
   "metadata": {},
   "source": [
    "### Traingulation with non linear equation\n",
    "$\\tilde{q_1} = P1*\\tilde{Q}$ <br>\n",
    "$\\tilde{q_2} = P2*\\tilde{Q}$ \n"
   ]
  },
  {
   "cell_type": "code",
   "execution_count": 52,
   "id": "6a45037f",
   "metadata": {},
   "outputs": [],
   "source": [
    "def tirangulate_nonlin(qs:list, Ps:list):\n",
    "    \"\"\"\n",
    "    qs: aq tild\n",
    "    \"\"\"\n",
    "    # Transform the given qs to a matrix so it's easier \n",
    "    n = len(qs)\n",
    "    q_tild = np.zeros((3,n))\n",
    "    for i, q in zip(range(n), qs):\n",
    "        q_tild[:,i] = sf.squeezdim(q)\n",
    "\n",
    "    Q = sf.squeezdim(sf.triangulate(qs, Ps))\n",
    "    \n",
    "    def compute_residuals(Q, Ps, q_tild) :\n",
    "        \n",
    "        Q = sf.squeezdim(sf.triangulate(qs, Ps))\n",
    "        # Calculate the projections of the Point in different cameras\n",
    "        q = project2D_P(Ps,Q_est)\n",
    "        # Projections \n",
    "        q = project2D_P(Ps, Q)\n",
    "        q = (q/q[-1,:])[:-1,:].T\n",
    "        \n",
    "        # Transform the given qs to a matrix so it's easier \n",
    "        n = len(qs)\n",
    "        q_tild = np.zeros((3,n))\n",
    "        for i, q in zip(range(n), qs):\n",
    "            q_tild[:,i] = sf.squeezdim(q)\n",
    "       \n",
    "        E = q-q_tild\n",
    "        \n",
    "        return E\n",
    "    Proj = Ps\n",
    "    \n",
    "    def fun(Q):\n",
    "        compute_residuals\n",
    "        \n",
    "        \n",
    "    # x0 has to be in a format of \n",
    "    Q = least_squares(compute_residuals(, Q)\n",
    "    \n",
    "    return Q\n",
    "    "
   ]
  },
  {
   "cell_type": "code",
   "execution_count": 57,
   "id": "139d28bc",
   "metadata": {},
   "outputs": [
    {
     "data": {
      "text/plain": [
       "array([[1301.  , 1099.  ],\n",
       "       [ 635.05,  434.95]])"
      ]
     },
     "execution_count": 57,
     "metadata": {},
     "output_type": "execute_result"
    }
   ],
   "source": [
    "Q = sf.squeezdim(sf.triangulate(qs, Ps))\n",
    "Q\n",
    "q = project2D_P(Ps, Q)\n",
    "q = (q/q[-1,:])[:-1,:].T\n",
    "\n",
    "q"
   ]
  },
  {
   "cell_type": "code",
   "execution_count": 47,
   "id": "9c3e59e3",
   "metadata": {},
   "outputs": [
    {
     "data": {
      "text/plain": [
       "array([[1.301e+03],\n",
       "       [1.099e+03],\n",
       "       [1.000e+00]])"
      ]
     },
     "execution_count": 47,
     "metadata": {},
     "output_type": "execute_result"
    }
   ],
   "source": [
    "qs[0]"
   ]
  },
  {
   "cell_type": "code",
   "execution_count": 53,
   "id": "b8a1b7d8",
   "metadata": {},
   "outputs": [
    {
     "ename": "TypeError",
     "evalue": "compute_residuals() missing 2 required positional arguments: 'q_tild' and 'Ps'",
     "output_type": "error",
     "traceback": [
      "\u001b[1;31m---------------------------------------------------------------------------\u001b[0m",
      "\u001b[1;31mTypeError\u001b[0m                                 Traceback (most recent call last)",
      "\u001b[1;32m~\\AppData\\Local\\Temp/ipykernel_26140/3471594881.py\u001b[0m in \u001b[0;36m<module>\u001b[1;34m\u001b[0m\n\u001b[1;32m----> 1\u001b[1;33m \u001b[0mQ\u001b[0m \u001b[1;33m=\u001b[0m \u001b[0mtirangulate_nonlin\u001b[0m\u001b[1;33m(\u001b[0m\u001b[0mqs\u001b[0m\u001b[1;33m,\u001b[0m \u001b[0mPs\u001b[0m\u001b[1;33m)\u001b[0m\u001b[1;33m\u001b[0m\u001b[1;33m\u001b[0m\u001b[0m\n\u001b[0m",
      "\u001b[1;32m~\\AppData\\Local\\Temp/ipykernel_26140/2338089292.py\u001b[0m in \u001b[0;36mtirangulate_nonlin\u001b[1;34m(qs, Ps)\u001b[0m\n\u001b[0;32m     26\u001b[0m \u001b[1;33m\u001b[0m\u001b[0m\n\u001b[0;32m     27\u001b[0m     \u001b[1;31m# x0 has to be in a format of\u001b[0m\u001b[1;33m\u001b[0m\u001b[1;33m\u001b[0m\u001b[1;33m\u001b[0m\u001b[0m\n\u001b[1;32m---> 28\u001b[1;33m     \u001b[0mQ\u001b[0m \u001b[1;33m=\u001b[0m \u001b[0mleast_squares\u001b[0m\u001b[1;33m(\u001b[0m\u001b[0mcompute_residuals\u001b[0m\u001b[1;33m,\u001b[0m \u001b[0mQ\u001b[0m\u001b[1;33m)\u001b[0m\u001b[1;33m\u001b[0m\u001b[1;33m\u001b[0m\u001b[0m\n\u001b[0m\u001b[0;32m     29\u001b[0m \u001b[1;33m\u001b[0m\u001b[0m\n\u001b[0;32m     30\u001b[0m     \u001b[1;32mreturn\u001b[0m \u001b[0mQ\u001b[0m\u001b[1;33m\u001b[0m\u001b[1;33m\u001b[0m\u001b[0m\n",
      "\u001b[1;32m~\\anaconda3\\lib\\site-packages\\scipy\\optimize\\_lsq\\least_squares.py\u001b[0m in \u001b[0;36mleast_squares\u001b[1;34m(fun, x0, jac, bounds, method, ftol, xtol, gtol, x_scale, loss, f_scale, diff_step, tr_solver, tr_options, jac_sparsity, max_nfev, verbose, args, kwargs)\u001b[0m\n\u001b[0;32m    815\u001b[0m         \u001b[0mx0\u001b[0m \u001b[1;33m=\u001b[0m \u001b[0mmake_strictly_feasible\u001b[0m\u001b[1;33m(\u001b[0m\u001b[0mx0\u001b[0m\u001b[1;33m,\u001b[0m \u001b[0mlb\u001b[0m\u001b[1;33m,\u001b[0m \u001b[0mub\u001b[0m\u001b[1;33m)\u001b[0m\u001b[1;33m\u001b[0m\u001b[1;33m\u001b[0m\u001b[0m\n\u001b[0;32m    816\u001b[0m \u001b[1;33m\u001b[0m\u001b[0m\n\u001b[1;32m--> 817\u001b[1;33m     \u001b[0mf0\u001b[0m \u001b[1;33m=\u001b[0m \u001b[0mfun_wrapped\u001b[0m\u001b[1;33m(\u001b[0m\u001b[0mx0\u001b[0m\u001b[1;33m)\u001b[0m\u001b[1;33m\u001b[0m\u001b[1;33m\u001b[0m\u001b[0m\n\u001b[0m\u001b[0;32m    818\u001b[0m \u001b[1;33m\u001b[0m\u001b[0m\n\u001b[0;32m    819\u001b[0m     \u001b[1;32mif\u001b[0m \u001b[0mf0\u001b[0m\u001b[1;33m.\u001b[0m\u001b[0mndim\u001b[0m \u001b[1;33m!=\u001b[0m \u001b[1;36m1\u001b[0m\u001b[1;33m:\u001b[0m\u001b[1;33m\u001b[0m\u001b[1;33m\u001b[0m\u001b[0m\n",
      "\u001b[1;32m~\\anaconda3\\lib\\site-packages\\scipy\\optimize\\_lsq\\least_squares.py\u001b[0m in \u001b[0;36mfun_wrapped\u001b[1;34m(x)\u001b[0m\n\u001b[0;32m    810\u001b[0m \u001b[1;33m\u001b[0m\u001b[0m\n\u001b[0;32m    811\u001b[0m     \u001b[1;32mdef\u001b[0m \u001b[0mfun_wrapped\u001b[0m\u001b[1;33m(\u001b[0m\u001b[0mx\u001b[0m\u001b[1;33m)\u001b[0m\u001b[1;33m:\u001b[0m\u001b[1;33m\u001b[0m\u001b[1;33m\u001b[0m\u001b[0m\n\u001b[1;32m--> 812\u001b[1;33m         \u001b[1;32mreturn\u001b[0m \u001b[0mnp\u001b[0m\u001b[1;33m.\u001b[0m\u001b[0matleast_1d\u001b[0m\u001b[1;33m(\u001b[0m\u001b[0mfun\u001b[0m\u001b[1;33m(\u001b[0m\u001b[0mx\u001b[0m\u001b[1;33m,\u001b[0m \u001b[1;33m*\u001b[0m\u001b[0margs\u001b[0m\u001b[1;33m,\u001b[0m \u001b[1;33m**\u001b[0m\u001b[0mkwargs\u001b[0m\u001b[1;33m)\u001b[0m\u001b[1;33m)\u001b[0m\u001b[1;33m\u001b[0m\u001b[1;33m\u001b[0m\u001b[0m\n\u001b[0m\u001b[0;32m    813\u001b[0m \u001b[1;33m\u001b[0m\u001b[0m\n\u001b[0;32m    814\u001b[0m     \u001b[1;32mif\u001b[0m \u001b[0mmethod\u001b[0m \u001b[1;33m==\u001b[0m \u001b[1;34m'trf'\u001b[0m\u001b[1;33m:\u001b[0m\u001b[1;33m\u001b[0m\u001b[1;33m\u001b[0m\u001b[0m\n",
      "\u001b[1;31mTypeError\u001b[0m: compute_residuals() missing 2 required positional arguments: 'q_tild' and 'Ps'"
     ]
    }
   ],
   "source": [
    "Q = tirangulate_nonlin(qs, Ps)"
   ]
  },
  {
   "cell_type": "code",
   "execution_count": 19,
   "id": "9ac2aa9f",
   "metadata": {},
   "outputs": [
    {
     "data": {
      "text/plain": [
       "array([[1.00142857e+00],\n",
       "       [9.98571429e-01],\n",
       "       [2.66657044e-16],\n",
       "       [1.00000000e+00]])"
      ]
     },
     "execution_count": 19,
     "metadata": {},
     "output_type": "execute_result"
    }
   ],
   "source": [
    "Q_est\n"
   ]
  },
  {
   "cell_type": "code",
   "execution_count": null,
   "id": "18526c98",
   "metadata": {},
   "outputs": [],
   "source": []
  },
  {
   "cell_type": "code",
   "execution_count": null,
   "id": "34ffdda8",
   "metadata": {},
   "outputs": [],
   "source": []
  }
 ],
 "metadata": {
  "kernelspec": {
   "display_name": "Python 3 (ipykernel)",
   "language": "python",
   "name": "python3"
  },
  "language_info": {
   "codemirror_mode": {
    "name": "ipython",
    "version": 3
   },
   "file_extension": ".py",
   "mimetype": "text/x-python",
   "name": "python",
   "nbconvert_exporter": "python",
   "pygments_lexer": "ipython3",
   "version": "3.8.12"
  }
 },
 "nbformat": 4,
 "nbformat_minor": 5
}
