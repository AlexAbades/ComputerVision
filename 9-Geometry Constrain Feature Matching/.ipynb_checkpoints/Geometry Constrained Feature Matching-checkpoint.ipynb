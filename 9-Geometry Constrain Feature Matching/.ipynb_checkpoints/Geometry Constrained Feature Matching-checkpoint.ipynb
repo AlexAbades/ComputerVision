{
 "cells": [
  {
   "cell_type": "markdown",
   "id": "616cb3d8",
   "metadata": {},
   "source": [
    "# Geometry Constrained Feature Matching"
   ]
  },
  {
   "cell_type": "code",
   "execution_count": 35,
   "id": "21915ccf",
   "metadata": {},
   "outputs": [],
   "source": [
    "import numpy as np \n",
    "import random\n",
    "from scipy.spatial.transform import Rotation\n",
    "import matplotlib.pyplot as plt\n",
    "import os\n",
    "import sys\n",
    "import itertools as it"
   ]
  },
  {
   "cell_type": "code",
   "execution_count": 23,
   "id": "10f28d02",
   "metadata": {},
   "outputs": [],
   "source": [
    "d = np.load('Ftrue.npy', allow_pickle=True).item()  # Dicctionary\n",
    "qs= np.load('qs.npy', allow_pickle=True).item()"
   ]
  },
  {
   "cell_type": "code",
   "execution_count": 24,
   "id": "efd2c5aa",
   "metadata": {},
   "outputs": [
    {
     "data": {
      "text/plain": [
       "dict_keys(['q1', 'q2'])"
      ]
     },
     "execution_count": 24,
     "metadata": {},
     "output_type": "execute_result"
    }
   ],
   "source": [
    "qs.keys()"
   ]
  },
  {
   "cell_type": "code",
   "execution_count": 43,
   "id": "8a3c0988",
   "metadata": {},
   "outputs": [
    {
     "data": {
      "text/plain": [
       "9"
      ]
     },
     "execution_count": 43,
     "metadata": {},
     "output_type": "execute_result"
    }
   ],
   "source": [
    "q1 = qs['q1'] # 2d points in homogenous form 3x8\n",
    "q2 = qs['q2'] # 2d points in homogenous form 3x8"
   ]
  },
  {
   "cell_type": "code",
   "execution_count": 5,
   "id": "06305cb0",
   "metadata": {},
   "outputs": [],
   "source": [
    "im1 = d['im1']\n",
    "im2 = d['im2']\n",
    "R1 = d['R1']\n",
    "R2 = d['R2']\n",
    "t1 = np.squeeze(d['t1'] )\n",
    "t2 = np.squeeze(d['t2'])\n",
    "K = d['K']"
   ]
  },
  {
   "cell_type": "code",
   "execution_count": 14,
   "id": "5d2be929",
   "metadata": {},
   "outputs": [],
   "source": [
    "def crossOp(v):\n",
    "    \"\"\"\n",
    "    v: is a vector, should it be in column vector \n",
    "    \"\"\"\n",
    "    crossv = np.matrix(np.array([[0, -v[2], v[1]],[v[2], 0, -v[0]], [-v[1], v[0], 0]]))\n",
    "    return crossv"
   ]
  },
  {
   "cell_type": "code",
   "execution_count": 15,
   "id": "78d516c6",
   "metadata": {},
   "outputs": [],
   "source": [
    "def fundmat(K1, K2, t1, R1):\n",
    "    \"\"\"\n",
    "    K1, K2: Camera Matrices, \n",
    "    t1: translation vector camera 1\n",
    "    R1: Rotation matrix camera 1\n",
    "    Returns: Fundamental matrix \n",
    "    \"\"\"\n",
    "    # check the shape of the matrices\n",
    "    if t1.shape == (3,1):\n",
    "        pass\n",
    "    else:\n",
    "        t1 = t1.T\n",
    "    \n",
    "    # Compute the inverses\n",
    "    K1_inv, K2_inv = np.linalg.inv(K1), np.linalg.inv(K2)\n",
    "    # Compute essential matrix \n",
    "    E = crossOp(t1)@R1\n",
    "    F = K2_inv.T @ E @ K1_inv\n",
    "    return F"
   ]
  },
  {
   "cell_type": "code",
   "execution_count": 18,
   "id": "3885d692",
   "metadata": {},
   "outputs": [
    {
     "data": {
      "text/plain": [
       "matrix([[ 6.67972386e-12, -7.85049967e-10,  1.17921973e-07],\n",
       "        [-9.75936980e-10, -4.86806510e-12,  3.28699196e-05],\n",
       "        [ 4.23506610e-07, -3.21704080e-05, -2.12002228e-04]])"
      ]
     },
     "execution_count": 18,
     "metadata": {},
     "output_type": "execute_result"
    }
   ],
   "source": [
    "F = fundmat(K,K,t2,R2)\n",
    "F"
   ]
  },
  {
   "cell_type": "code",
   "execution_count": 42,
   "id": "88d3d2d7",
   "metadata": {},
   "outputs": [
    {
     "data": {
      "text/plain": [
       "array([  5,   6,   4,  50,  60,  40, 500, 600, 400])"
      ]
     },
     "execution_count": 42,
     "metadata": {},
     "output_type": "execute_result"
    }
   ],
   "source": [
    "np.kron([1, 10, 100], [5, 6, 4])"
   ]
  },
  {
   "cell_type": "code",
   "execution_count": 59,
   "id": "84301e0f",
   "metadata": {},
   "outputs": [
    {
     "data": {
      "text/plain": [
       "((3, 8), array([192.80308677, 482.655306  ,   1.        ]))"
      ]
     },
     "execution_count": 59,
     "metadata": {},
     "output_type": "execute_result"
    }
   ],
   "source": [
    "q1.shape, q1[:,0]"
   ]
  },
  {
   "cell_type": "code",
   "execution_count": 61,
   "id": "9d23b84c",
   "metadata": {},
   "outputs": [
    {
     "data": {
      "text/plain": [
       "(9,)"
      ]
     },
     "execution_count": 61,
     "metadata": {},
     "output_type": "execute_result"
    }
   ],
   "source": [
    "np.kron(q1[:,0],q2[:,0]).shape"
   ]
  },
  {
   "cell_type": "code",
   "execution_count": 68,
   "id": "479d41b9",
   "metadata": {},
   "outputs": [],
   "source": [
    "def estF_8point(q1, q2)->np.array:\n",
    "    \"\"\"\n",
    "    Given two sets of points in 2D in homogenous form (3,1) from two different images taken with the same camera, \n",
    "    we estimate the Fundamental Matrix of the camera.\n",
    "    \n",
    "    It applies kronoker product two the pair of points to create the B matrix\n",
    "    PARAMETERS:\n",
    "    q1 --> Collection of 2d points on homogenous form (3,n)\n",
    "    q2 --> Collection of 2d points on homogenous form (3,n)\n",
    "    \n",
    "    RETURNS:\n",
    "    F --> Estimation of the fundamental matrix. \n",
    "    \"\"\"\n",
    "    # check if we have the same amount of points\n",
    "    if q1.shape != q2.shape:\n",
    "        print('q1 and q2 should store the same amount of points')\n",
    "        return False \n",
    "    elif q1.shape[0] != 3:\n",
    "        print('Make sure your collection of points is in homogenous form')\n",
    "        return False\n",
    "    \n",
    "    # Create the B matrix with the Kronecker product, \n",
    "        # Initialize it for faster computation:\n",
    "    n = q1.shape[0]*q2.shape[0]\n",
    "    B = np.zeros((q1.shape[1], n))\n",
    "    # Loop trhoug each point and apply kronoker product to the pair of points\n",
    "    for i in range(q1.shape[1]):\n",
    "        B[i,:] = np.kron(q1[:,i],q2[:,i])\n",
    "        \n",
    "    # Apply singular value decomposition to obtain \n",
    "    _,s,eigVec = np.linalg.svd(B)\n",
    "    # Find Min \n",
    "    idx = np.where(s==min(s))\n",
    "    # Select the eigenvector correspondent to the eigenvalue\n",
    "    F_vec = eigVec[idx]\n",
    "    \n",
    "    # Reshape to 3x3 \n",
    "    \n",
    "#   put option to scale it or not \n",
    "\n",
    "    \n",
    "    return Q.reshape()"
   ]
  },
  {
   "cell_type": "code",
   "execution_count": 69,
   "id": "02dff2a7",
   "metadata": {},
   "outputs": [
    {
     "data": {
      "text/plain": [
       "(1, 9)"
      ]
     },
     "execution_count": 69,
     "metadata": {},
     "output_type": "execute_result"
    }
   ],
   "source": [
    "estF_8point(q1, q2).shape"
   ]
  },
  {
   "cell_type": "code",
   "execution_count": 20,
   "id": "534c494e",
   "metadata": {},
   "outputs": [
    {
     "ename": "KeyError",
     "evalue": "'q1'",
     "output_type": "error",
     "traceback": [
      "\u001b[1;31m---------------------------------------------------------------------------\u001b[0m",
      "\u001b[1;31mKeyError\u001b[0m                                  Traceback (most recent call last)",
      "\u001b[1;32m~\\AppData\\Local\\Temp/ipykernel_9604/977524735.py\u001b[0m in \u001b[0;36m<module>\u001b[1;34m\u001b[0m\n\u001b[1;32m----> 1\u001b[1;33m \u001b[0md\u001b[0m\u001b[1;33m[\u001b[0m\u001b[1;34m'q1'\u001b[0m\u001b[1;33m]\u001b[0m\u001b[1;33m\u001b[0m\u001b[1;33m\u001b[0m\u001b[0m\n\u001b[0m",
      "\u001b[1;31mKeyError\u001b[0m: 'q1'"
     ]
    }
   ],
   "source": [
    "d['q1']"
   ]
  },
  {
   "cell_type": "code",
   "execution_count": null,
   "id": "e2f9eea1",
   "metadata": {},
   "outputs": [],
   "source": []
  }
 ],
 "metadata": {
  "kernelspec": {
   "display_name": "Python 3 (ipykernel)",
   "language": "python",
   "name": "python3"
  },
  "language_info": {
   "codemirror_mode": {
    "name": "ipython",
    "version": 3
   },
   "file_extension": ".py",
   "mimetype": "text/x-python",
   "name": "python",
   "nbconvert_exporter": "python",
   "pygments_lexer": "ipython3",
   "version": "3.8.12"
  }
 },
 "nbformat": 4,
 "nbformat_minor": 5
}
